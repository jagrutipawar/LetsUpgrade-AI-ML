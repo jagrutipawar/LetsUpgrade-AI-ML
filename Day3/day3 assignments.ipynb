{
 "cells": [
  {
   "cell_type": "markdown",
   "metadata": {},
   "source": [
    "Assignment 1:"
   ]
  },
  {
   "cell_type": "code",
   "execution_count": 4,
   "metadata": {},
   "outputs": [
    {
     "name": "stdout",
     "output_type": "stream",
     "text": [
      "Substraction is: (13+18j)\n"
     ]
    }
   ],
   "source": [
    "a=5 + 4j\n",
    "b=8 + 14j\n",
    "c=a+b\n",
    "print(\"Substraction is:\",c)"
   ]
  },
  {
   "cell_type": "markdown",
   "metadata": {},
   "source": [
    "Assignment 2: write a prg to find the fourth root of number"
   ]
  },
  {
   "cell_type": "code",
   "execution_count": 5,
   "metadata": {},
   "outputs": [
    {
     "data": {
      "text/plain": [
       "16"
      ]
     },
     "execution_count": 5,
     "metadata": {},
     "output_type": "execute_result"
    }
   ],
   "source": [
    "2**4"
   ]
  },
  {
   "cell_type": "markdown",
   "metadata": {},
   "source": [
    "Assignment 3:write a prg to swap two number in python with the help of temporary variable"
   ]
  },
  {
   "cell_type": "code",
   "execution_count": 21,
   "metadata": {},
   "outputs": [
    {
     "name": "stdout",
     "output_type": "stream",
     "text": [
      "a= 23\n",
      "b= 41\n",
      "after swapping the no.\n",
      "a= 41\n",
      "b= 23\n"
     ]
    }
   ],
   "source": [
    "a=23\n",
    "b=41\n",
    "print(\"a=\",a )\n",
    "print(\"b=\",b)\n",
    "print(\"after swapping the no.\")\n",
    "c=a\n",
    "a=b\n",
    "b=c\n",
    "print(\"a=\",+a )\n",
    "print(\"b=\",+b)"
   ]
  },
  {
   "cell_type": "markdown",
   "metadata": {},
   "source": [
    "Assignment 4: Write a prg to swap two no in python without using temp variable"
   ]
  },
  {
   "cell_type": "code",
   "execution_count": 22,
   "metadata": {},
   "outputs": [
    {
     "name": "stdout",
     "output_type": "stream",
     "text": [
      "a= 7\n",
      "b= 4\n",
      "after swapping the no.\n",
      "a= 4\n",
      "b= 7\n"
     ]
    }
   ],
   "source": [
    "a=7\n",
    "b=4\n",
    "print(\"a=\",a )\n",
    "print(\"b=\",b)\n",
    "print(\"after swapping the no.\")\n",
    "a=a+b\n",
    "b=a-b\n",
    "a=a-b\n",
    "print(\"a=\",+a )\n",
    "print(\"b=\",+b)\n"
   ]
  },
  {
   "cell_type": "markdown",
   "metadata": {},
   "source": [
    "Assignment 5: write a prg to convert fahrenheit to kalvin and celsius both"
   ]
  },
  {
   "cell_type": "code",
   "execution_count": 24,
   "metadata": {},
   "outputs": [
    {
     "name": "stdout",
     "output_type": "stream",
     "text": [
      "conversion of fahrenheit to kalvin and celsius:\n",
      "kalvin= 311.27777777777777\n",
      "celsius= 37.77777777777778\n"
     ]
    }
   ],
   "source": [
    "print(\"conversion of fahrenheit to kalvin and celsius:\")\n",
    "f=100\n",
    "k=273.5+((f-32.0)*(5.0/9.0))\n",
    "c=(f-32)* 5/9\n",
    "print(\"kalvin=\",k)\n",
    "print(\"celsius=\",c)"
   ]
  },
  {
   "cell_type": "markdown",
   "metadata": {},
   "source": [
    "Assignment 6: write a prg to demonstrate all the available data types in python."
   ]
  },
  {
   "cell_type": "code",
   "execution_count": 38,
   "metadata": {},
   "outputs": [
    {
     "name": "stdout",
     "output_type": "stream",
     "text": [
      "<class 'int'>\n",
      "<class 'float'>\n",
      "add= 38.1\n",
      "<class 'str'>\n",
      "<class 'complex'>\n",
      "<class 'set'>\n"
     ]
    }
   ],
   "source": [
    "a=34\n",
    "print(type(a))\n",
    "b=4.1\n",
    "print(type(b))\n",
    "print(\"add=\",a+b)\n",
    "x=\"it is a string\"\n",
    "print(type(x))\n",
    "y= 3+10j\n",
    "print(type(y))\n",
    "z={1,3,5,8}\n",
    "print(type(z))"
   ]
  },
  {
   "cell_type": "markdown",
   "metadata": {},
   "source": [
    "Assignment 7: create a Markdown cell in jupyter and list the step discussed in the session by Dr.Darshan Ingle sir\n",
    "              to create Github profile and upload Githubs Assignment link.  "
   ]
  },
  {
   "cell_type": "markdown",
   "metadata": {},
   "source": [
    "steps to create Github profile and upload Github Assignment link-\n",
    "step 1) go to github.com on google\n",
    "step 2) create an profile using create new account- enter the name and valide emailaddress, password here.\n",
    "step 3) Goto to jupyter notebook create a folder -Day wise and in this folder write a assignment file.\n",
    "step 4) goto github and click new button\n",
    "step 5) enter the repository name-> LetsUpgrate AI-ML and enter the Description -> Assignment.\n",
    "step 6) public button is already click over their do not change this .\n",
    "step 7) after that click on create repository\n",
    "step 8) click upload on existing file then drag and drop the Day wise created folder here. click on commit changes."
   ]
  }
 ],
 "metadata": {
  "kernelspec": {
   "display_name": "Python 3",
   "language": "python",
   "name": "python3"
  },
  "language_info": {
   "codemirror_mode": {
    "name": "ipython",
    "version": 3
   },
   "file_extension": ".py",
   "mimetype": "text/x-python",
   "name": "python",
   "nbconvert_exporter": "python",
   "pygments_lexer": "ipython3",
   "version": "3.7.6"
  }
 },
 "nbformat": 4,
 "nbformat_minor": 4
}
