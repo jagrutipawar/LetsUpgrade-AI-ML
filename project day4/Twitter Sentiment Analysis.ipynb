{
 "cells": [
  {
   "cell_type": "code",
   "execution_count": 2,
   "metadata": {},
   "outputs": [
    {
     "name": "stdout",
     "output_type": "stream",
     "text": [
      "Requirement already satisfied: tweepy in c:\\users\\jagruti\\anaconda3\\lib\\site-packages (3.9.0)\n",
      "Requirement already satisfied: requests[socks]>=2.11.1 in c:\\users\\jagruti\\anaconda3\\lib\\site-packages (from tweepy) (2.22.0)\n",
      "Requirement already satisfied: requests-oauthlib>=0.7.0 in c:\\users\\jagruti\\anaconda3\\lib\\site-packages (from tweepy) (1.3.0)\n",
      "Requirement already satisfied: six>=1.10.0 in c:\\users\\jagruti\\anaconda3\\lib\\site-packages (from tweepy) (1.14.0)\n",
      "Requirement already satisfied: chardet<3.1.0,>=3.0.2 in c:\\users\\jagruti\\anaconda3\\lib\\site-packages (from requests[socks]>=2.11.1->tweepy) (3.0.4)\n",
      "Requirement already satisfied: urllib3!=1.25.0,!=1.25.1,<1.26,>=1.21.1 in c:\\users\\jagruti\\anaconda3\\lib\\site-packages (from requests[socks]>=2.11.1->tweepy) (1.25.8)\n",
      "Requirement already satisfied: certifi>=2017.4.17 in c:\\users\\jagruti\\anaconda3\\lib\\site-packages (from requests[socks]>=2.11.1->tweepy) (2019.11.28)\n",
      "Requirement already satisfied: idna<2.9,>=2.5 in c:\\users\\jagruti\\anaconda3\\lib\\site-packages (from requests[socks]>=2.11.1->tweepy) (2.8)\n",
      "Requirement already satisfied: PySocks!=1.5.7,>=1.5.6; extra == \"socks\" in c:\\users\\jagruti\\anaconda3\\lib\\site-packages (from requests[socks]>=2.11.1->tweepy) (1.7.1)\n",
      "Requirement already satisfied: oauthlib>=3.0.0 in c:\\users\\jagruti\\anaconda3\\lib\\site-packages (from requests-oauthlib>=0.7.0->tweepy) (3.1.0)\n"
     ]
    }
   ],
   "source": [
    "!pip install tweepy"
   ]
  },
  {
   "cell_type": "code",
   "execution_count": 3,
   "metadata": {},
   "outputs": [
    {
     "name": "stdout",
     "output_type": "stream",
     "text": [
      "Requirement already satisfied: openpyxl in c:\\users\\jagruti\\anaconda3\\lib\\site-packages (3.0.3)\n",
      "Requirement already satisfied: et-xmlfile in c:\\users\\jagruti\\anaconda3\\lib\\site-packages (from openpyxl) (1.0.1)\n",
      "Requirement already satisfied: jdcal in c:\\users\\jagruti\\anaconda3\\lib\\site-packages (from openpyxl) (1.4.1)\n"
     ]
    }
   ],
   "source": [
    "!pip install openpyxl"
   ]
  },
  {
   "cell_type": "code",
   "execution_count": 4,
   "metadata": {},
   "outputs": [],
   "source": [
    "import tweepy\n",
    "import numpy as np\n",
    "import pandas as pd\n",
    "import json\n",
    "from tweepy import OAuthHandler"
   ]
  },
  {
   "cell_type": "code",
   "execution_count": 5,
   "metadata": {},
   "outputs": [],
   "source": [
    "consumer_key=\"LzsCOl12ZZ79FObx7BV9a1R3a\"\n",
    "\n",
    "consumer_secret=\"gODxZ1kHJHDGgYfyP12AUN37UTlDd6yn3OsSV9Tl0iwu0K0cRY\"\n",
    "\n",
    "access_token= \"296102538-kYIK8SULCmRK4vgvYD2DhKbwvSXrgTdTkWh0Nvsp\"\n",
    "\n",
    "access_token_secret=\"Ib9obwgcE5tZk4S6tY5rAqI5iXOeJc9FGFg28qHoa4YpP\""
   ]
  },
  {
   "cell_type": "code",
   "execution_count": 6,
   "metadata": {},
   "outputs": [],
   "source": [
    "auth=tweepy.OAuthHandler(consumer_key , consumer_secret)\n",
    "auth.set_access_token(access_token,access_token_secret)\n",
    "api=tweepy.API(auth)"
   ]
  },
  {
   "cell_type": "code",
   "execution_count": 7,
   "metadata": {},
   "outputs": [],
   "source": [
    "query=\"RCB winning IPL\""
   ]
  },
  {
   "cell_type": "code",
   "execution_count": 8,
   "metadata": {},
   "outputs": [
    {
     "name": "stdout",
     "output_type": "stream",
     "text": [
      "Status(_api=<tweepy.api.API object at 0x0000000008882888>, _json={'created_at': 'Sun Nov 01 08:34:27 +0000 2020', 'id': 1322819278291128320, 'id_str': '1322819278291128320', 'full_text': \"As much as I am excited, nervous and pumped up regarding RCB's future in this IPL, the Australian Test series is the main thing on my mind. If today someone tells me that RCB is out of the tournament but India is winning the Test series, I'll take it happily! \\n#INDvsAUS #IPL2020\", 'truncated': False, 'display_text_range': [0, 279], 'entities': {'hashtags': [{'text': 'INDvsAUS', 'indices': [261, 270]}, {'text': 'IPL2020', 'indices': [271, 279]}], 'symbols': [], 'user_mentions': [], 'urls': []}, 'metadata': {'iso_language_code': 'en', 'result_type': 'recent'}, 'source': '<a href=\"http://twitter.com/download/android\" rel=\"nofollow\">Twitter for Android</a>', 'in_reply_to_status_id': None, 'in_reply_to_status_id_str': None, 'in_reply_to_user_id': None, 'in_reply_to_user_id_str': None, 'in_reply_to_screen_name': None, 'user': {'id': 1066792015549984768, 'id_str': '1066792015549984768', 'name': 'Kanav Bali🏏', 'screen_name': 'BaliKanav', 'location': 'Chandigarh, India', 'description': \"2020 is sus🙌🏻\\nSomeone who has known, lived and played Cricket his whole life🏏\\nFav: Indian Cricket Team, RCB🙌🏻❤️\\nRT's/Opinions are personal.\", 'url': None, 'entities': {'description': {'urls': []}}, 'protected': False, 'followers_count': 63, 'friends_count': 1219, 'listed_count': 0, 'created_at': 'Sun Nov 25 20:33:31 +0000 2018', 'favourites_count': 396, 'utc_offset': None, 'time_zone': None, 'geo_enabled': True, 'verified': False, 'statuses_count': 1228, 'lang': None, 'contributors_enabled': False, 'is_translator': False, 'is_translation_enabled': False, 'profile_background_color': 'F5F8FA', 'profile_background_image_url': None, 'profile_background_image_url_https': None, 'profile_background_tile': False, 'profile_image_url': 'http://pbs.twimg.com/profile_images/1322437027493629961/epmdP7NF_normal.jpg', 'profile_image_url_https': 'https://pbs.twimg.com/profile_images/1322437027493629961/epmdP7NF_normal.jpg', 'profile_banner_url': 'https://pbs.twimg.com/profile_banners/1066792015549984768/1604054624', 'profile_link_color': '1DA1F2', 'profile_sidebar_border_color': 'C0DEED', 'profile_sidebar_fill_color': 'DDEEF6', 'profile_text_color': '333333', 'profile_use_background_image': True, 'has_extended_profile': False, 'default_profile': True, 'default_profile_image': False, 'following': False, 'follow_request_sent': False, 'notifications': False, 'translator_type': 'none'}, 'geo': None, 'coordinates': None, 'place': None, 'contributors': None, 'is_quote_status': False, 'retweet_count': 0, 'favorite_count': 0, 'favorited': False, 'retweeted': False, 'lang': 'en'}, created_at=datetime.datetime(2020, 11, 1, 8, 34, 27), id=1322819278291128320, id_str='1322819278291128320', full_text=\"As much as I am excited, nervous and pumped up regarding RCB's future in this IPL, the Australian Test series is the main thing on my mind. If today someone tells me that RCB is out of the tournament but India is winning the Test series, I'll take it happily! \\n#INDvsAUS #IPL2020\", truncated=False, display_text_range=[0, 279], entities={'hashtags': [{'text': 'INDvsAUS', 'indices': [261, 270]}, {'text': 'IPL2020', 'indices': [271, 279]}], 'symbols': [], 'user_mentions': [], 'urls': []}, metadata={'iso_language_code': 'en', 'result_type': 'recent'}, source='Twitter for Android', source_url='http://twitter.com/download/android', in_reply_to_status_id=None, in_reply_to_status_id_str=None, in_reply_to_user_id=None, in_reply_to_user_id_str=None, in_reply_to_screen_name=None, author=User(_api=<tweepy.api.API object at 0x0000000008882888>, _json={'id': 1066792015549984768, 'id_str': '1066792015549984768', 'name': 'Kanav Bali🏏', 'screen_name': 'BaliKanav', 'location': 'Chandigarh, India', 'description': \"2020 is sus🙌🏻\\nSomeone who has known, lived and played Cricket his whole life🏏\\nFav: Indian Cricket Team, RCB🙌🏻❤️\\nRT's/Opinions are personal.\", 'url': None, 'entities': {'description': {'urls': []}}, 'protected': False, 'followers_count': 63, 'friends_count': 1219, 'listed_count': 0, 'created_at': 'Sun Nov 25 20:33:31 +0000 2018', 'favourites_count': 396, 'utc_offset': None, 'time_zone': None, 'geo_enabled': True, 'verified': False, 'statuses_count': 1228, 'lang': None, 'contributors_enabled': False, 'is_translator': False, 'is_translation_enabled': False, 'profile_background_color': 'F5F8FA', 'profile_background_image_url': None, 'profile_background_image_url_https': None, 'profile_background_tile': False, 'profile_image_url': 'http://pbs.twimg.com/profile_images/1322437027493629961/epmdP7NF_normal.jpg', 'profile_image_url_https': 'https://pbs.twimg.com/profile_images/1322437027493629961/epmdP7NF_normal.jpg', 'profile_banner_url': 'https://pbs.twimg.com/profile_banners/1066792015549984768/1604054624', 'profile_link_color': '1DA1F2', 'profile_sidebar_border_color': 'C0DEED', 'profile_sidebar_fill_color': 'DDEEF6', 'profile_text_color': '333333', 'profile_use_background_image': True, 'has_extended_profile': False, 'default_profile': True, 'default_profile_image': False, 'following': False, 'follow_request_sent': False, 'notifications': False, 'translator_type': 'none'}, id=1066792015549984768, id_str='1066792015549984768', name='Kanav Bali🏏', screen_name='BaliKanav', location='Chandigarh, India', description=\"2020 is sus🙌🏻\\nSomeone who has known, lived and played Cricket his whole life🏏\\nFav: Indian Cricket Team, RCB🙌🏻❤️\\nRT's/Opinions are personal.\", url=None, entities={'description': {'urls': []}}, protected=False, followers_count=63, friends_count=1219, listed_count=0, created_at=datetime.datetime(2018, 11, 25, 20, 33, 31), favourites_count=396, utc_offset=None, time_zone=None, geo_enabled=True, verified=False, statuses_count=1228, lang=None, contributors_enabled=False, is_translator=False, is_translation_enabled=False, profile_background_color='F5F8FA', profile_background_image_url=None, profile_background_image_url_https=None, profile_background_tile=False, profile_image_url='http://pbs.twimg.com/profile_images/1322437027493629961/epmdP7NF_normal.jpg', profile_image_url_https='https://pbs.twimg.com/profile_images/1322437027493629961/epmdP7NF_normal.jpg', profile_banner_url='https://pbs.twimg.com/profile_banners/1066792015549984768/1604054624', profile_link_color='1DA1F2', profile_sidebar_border_color='C0DEED', profile_sidebar_fill_color='DDEEF6', profile_text_color='333333', profile_use_background_image=True, has_extended_profile=False, default_profile=True, default_profile_image=False, following=False, follow_request_sent=False, notifications=False, translator_type='none'), user=User(_api=<tweepy.api.API object at 0x0000000008882888>, _json={'id': 1066792015549984768, 'id_str': '1066792015549984768', 'name': 'Kanav Bali🏏', 'screen_name': 'BaliKanav', 'location': 'Chandigarh, India', 'description': \"2020 is sus🙌🏻\\nSomeone who has known, lived and played Cricket his whole life🏏\\nFav: Indian Cricket Team, RCB🙌🏻❤️\\nRT's/Opinions are personal.\", 'url': None, 'entities': {'description': {'urls': []}}, 'protected': False, 'followers_count': 63, 'friends_count': 1219, 'listed_count': 0, 'created_at': 'Sun Nov 25 20:33:31 +0000 2018', 'favourites_count': 396, 'utc_offset': None, 'time_zone': None, 'geo_enabled': True, 'verified': False, 'statuses_count': 1228, 'lang': None, 'contributors_enabled': False, 'is_translator': False, 'is_translation_enabled': False, 'profile_background_color': 'F5F8FA', 'profile_background_image_url': None, 'profile_background_image_url_https': None, 'profile_background_tile': False, 'profile_image_url': 'http://pbs.twimg.com/profile_images/1322437027493629961/epmdP7NF_normal.jpg', 'profile_image_url_https': 'https://pbs.twimg.com/profile_images/1322437027493629961/epmdP7NF_normal.jpg', 'profile_banner_url': 'https://pbs.twimg.com/profile_banners/1066792015549984768/1604054624', 'profile_link_color': '1DA1F2', 'profile_sidebar_border_color': 'C0DEED', 'profile_sidebar_fill_color': 'DDEEF6', 'profile_text_color': '333333', 'profile_use_background_image': True, 'has_extended_profile': False, 'default_profile': True, 'default_profile_image': False, 'following': False, 'follow_request_sent': False, 'notifications': False, 'translator_type': 'none'}, id=1066792015549984768, id_str='1066792015549984768', name='Kanav Bali🏏', screen_name='BaliKanav', location='Chandigarh, India', description=\"2020 is sus🙌🏻\\nSomeone who has known, lived and played Cricket his whole life🏏\\nFav: Indian Cricket Team, RCB🙌🏻❤️\\nRT's/Opinions are personal.\", url=None, entities={'description': {'urls': []}}, protected=False, followers_count=63, friends_count=1219, listed_count=0, created_at=datetime.datetime(2018, 11, 25, 20, 33, 31), favourites_count=396, utc_offset=None, time_zone=None, geo_enabled=True, verified=False, statuses_count=1228, lang=None, contributors_enabled=False, is_translator=False, is_translation_enabled=False, profile_background_color='F5F8FA', profile_background_image_url=None, profile_background_image_url_https=None, profile_background_tile=False, profile_image_url='http://pbs.twimg.com/profile_images/1322437027493629961/epmdP7NF_normal.jpg', profile_image_url_https='https://pbs.twimg.com/profile_images/1322437027493629961/epmdP7NF_normal.jpg', profile_banner_url='https://pbs.twimg.com/profile_banners/1066792015549984768/1604054624', profile_link_color='1DA1F2', profile_sidebar_border_color='C0DEED', profile_sidebar_fill_color='DDEEF6', profile_text_color='333333', profile_use_background_image=True, has_extended_profile=False, default_profile=True, default_profile_image=False, following=False, follow_request_sent=False, notifications=False, translator_type='none'), geo=None, coordinates=None, place=None, contributors=None, is_quote_status=False, retweet_count=0, favorite_count=0, favorited=False, retweeted=False, lang='en') \n",
      "\n",
      "----------------------------------------------\n",
      "\n",
      "Status(_api=<tweepy.api.API object at 0x0000000008882888>, _json={'created_at': 'Sun Nov 01 08:30:20 +0000 2020', 'id': 1322818243489193984, 'id_str': '1322818243489193984', 'full_text': '@ESPNcricinfo @DelhiCapitals still they will beat rcb..though winning ipl looks tough', 'truncated': False, 'display_text_range': [29, 85], 'entities': {'hashtags': [], 'symbols': [], 'user_mentions': [{'screen_name': 'ESPNcricinfo', 'name': 'ESPNcricinfo', 'id': 16542390, 'id_str': '16542390', 'indices': [0, 13]}, {'screen_name': 'DelhiCapitals', 'name': 'Delhi Capitals (Tweeting from 🇦🇪)', 'id': 176888549, 'id_str': '176888549', 'indices': [14, 28]}], 'urls': []}, 'metadata': {'iso_language_code': 'en', 'result_type': 'recent'}, 'source': '<a href=\"https://mobile.twitter.com\" rel=\"nofollow\">Twitter Web App</a>', 'in_reply_to_status_id': 1322817188542078983, 'in_reply_to_status_id_str': '1322817188542078983', 'in_reply_to_user_id': 16542390, 'in_reply_to_user_id_str': '16542390', 'in_reply_to_screen_name': 'ESPNcricinfo', 'user': {'id': 2343677454, 'id_str': '2343677454', 'name': \"Ra's Al Ghul\", 'screen_name': 'ra_al_Ghul_', 'location': 'India', 'description': 'Just another barca fan', 'url': None, 'entities': {'description': {'urls': []}}, 'protected': False, 'followers_count': 67, 'friends_count': 944, 'listed_count': 0, 'created_at': 'Fri Feb 14 14:45:05 +0000 2014', 'favourites_count': 9115, 'utc_offset': None, 'time_zone': None, 'geo_enabled': False, 'verified': False, 'statuses_count': 6428, 'lang': None, 'contributors_enabled': False, 'is_translator': False, 'is_translation_enabled': False, 'profile_background_color': 'C0DEED', 'profile_background_image_url': 'http://abs.twimg.com/images/themes/theme1/bg.png', 'profile_background_image_url_https': 'https://abs.twimg.com/images/themes/theme1/bg.png', 'profile_background_tile': False, 'profile_image_url': 'http://pbs.twimg.com/profile_images/1182300618423037953/4SIk1aUX_normal.jpg', 'profile_image_url_https': 'https://pbs.twimg.com/profile_images/1182300618423037953/4SIk1aUX_normal.jpg', 'profile_banner_url': 'https://pbs.twimg.com/profile_banners/2343677454/1570717723', 'profile_link_color': '1DA1F2', 'profile_sidebar_border_color': 'C0DEED', 'profile_sidebar_fill_color': 'DDEEF6', 'profile_text_color': '333333', 'profile_use_background_image': True, 'has_extended_profile': False, 'default_profile': True, 'default_profile_image': False, 'following': False, 'follow_request_sent': False, 'notifications': False, 'translator_type': 'none'}, 'geo': None, 'coordinates': None, 'place': None, 'contributors': None, 'is_quote_status': False, 'retweet_count': 0, 'favorite_count': 0, 'favorited': False, 'retweeted': False, 'lang': 'en'}, created_at=datetime.datetime(2020, 11, 1, 8, 30, 20), id=1322818243489193984, id_str='1322818243489193984', full_text='@ESPNcricinfo @DelhiCapitals still they will beat rcb..though winning ipl looks tough', truncated=False, display_text_range=[29, 85], entities={'hashtags': [], 'symbols': [], 'user_mentions': [{'screen_name': 'ESPNcricinfo', 'name': 'ESPNcricinfo', 'id': 16542390, 'id_str': '16542390', 'indices': [0, 13]}, {'screen_name': 'DelhiCapitals', 'name': 'Delhi Capitals (Tweeting from 🇦🇪)', 'id': 176888549, 'id_str': '176888549', 'indices': [14, 28]}], 'urls': []}, metadata={'iso_language_code': 'en', 'result_type': 'recent'}, source='Twitter Web App', source_url='https://mobile.twitter.com', in_reply_to_status_id=1322817188542078983, in_reply_to_status_id_str='1322817188542078983', in_reply_to_user_id=16542390, in_reply_to_user_id_str='16542390', in_reply_to_screen_name='ESPNcricinfo', author=User(_api=<tweepy.api.API object at 0x0000000008882888>, _json={'id': 2343677454, 'id_str': '2343677454', 'name': \"Ra's Al Ghul\", 'screen_name': 'ra_al_Ghul_', 'location': 'India', 'description': 'Just another barca fan', 'url': None, 'entities': {'description': {'urls': []}}, 'protected': False, 'followers_count': 67, 'friends_count': 944, 'listed_count': 0, 'created_at': 'Fri Feb 14 14:45:05 +0000 2014', 'favourites_count': 9115, 'utc_offset': None, 'time_zone': None, 'geo_enabled': False, 'verified': False, 'statuses_count': 6428, 'lang': None, 'contributors_enabled': False, 'is_translator': False, 'is_translation_enabled': False, 'profile_background_color': 'C0DEED', 'profile_background_image_url': 'http://abs.twimg.com/images/themes/theme1/bg.png', 'profile_background_image_url_https': 'https://abs.twimg.com/images/themes/theme1/bg.png', 'profile_background_tile': False, 'profile_image_url': 'http://pbs.twimg.com/profile_images/1182300618423037953/4SIk1aUX_normal.jpg', 'profile_image_url_https': 'https://pbs.twimg.com/profile_images/1182300618423037953/4SIk1aUX_normal.jpg', 'profile_banner_url': 'https://pbs.twimg.com/profile_banners/2343677454/1570717723', 'profile_link_color': '1DA1F2', 'profile_sidebar_border_color': 'C0DEED', 'profile_sidebar_fill_color': 'DDEEF6', 'profile_text_color': '333333', 'profile_use_background_image': True, 'has_extended_profile': False, 'default_profile': True, 'default_profile_image': False, 'following': False, 'follow_request_sent': False, 'notifications': False, 'translator_type': 'none'}, id=2343677454, id_str='2343677454', name=\"Ra's Al Ghul\", screen_name='ra_al_Ghul_', location='India', description='Just another barca fan', url=None, entities={'description': {'urls': []}}, protected=False, followers_count=67, friends_count=944, listed_count=0, created_at=datetime.datetime(2014, 2, 14, 14, 45, 5), favourites_count=9115, utc_offset=None, time_zone=None, geo_enabled=False, verified=False, statuses_count=6428, lang=None, contributors_enabled=False, is_translator=False, is_translation_enabled=False, profile_background_color='C0DEED', profile_background_image_url='http://abs.twimg.com/images/themes/theme1/bg.png', profile_background_image_url_https='https://abs.twimg.com/images/themes/theme1/bg.png', profile_background_tile=False, profile_image_url='http://pbs.twimg.com/profile_images/1182300618423037953/4SIk1aUX_normal.jpg', profile_image_url_https='https://pbs.twimg.com/profile_images/1182300618423037953/4SIk1aUX_normal.jpg', profile_banner_url='https://pbs.twimg.com/profile_banners/2343677454/1570717723', profile_link_color='1DA1F2', profile_sidebar_border_color='C0DEED', profile_sidebar_fill_color='DDEEF6', profile_text_color='333333', profile_use_background_image=True, has_extended_profile=False, default_profile=True, default_profile_image=False, following=False, follow_request_sent=False, notifications=False, translator_type='none'), user=User(_api=<tweepy.api.API object at 0x0000000008882888>, _json={'id': 2343677454, 'id_str': '2343677454', 'name': \"Ra's Al Ghul\", 'screen_name': 'ra_al_Ghul_', 'location': 'India', 'description': 'Just another barca fan', 'url': None, 'entities': {'description': {'urls': []}}, 'protected': False, 'followers_count': 67, 'friends_count': 944, 'listed_count': 0, 'created_at': 'Fri Feb 14 14:45:05 +0000 2014', 'favourites_count': 9115, 'utc_offset': None, 'time_zone': None, 'geo_enabled': False, 'verified': False, 'statuses_count': 6428, 'lang': None, 'contributors_enabled': False, 'is_translator': False, 'is_translation_enabled': False, 'profile_background_color': 'C0DEED', 'profile_background_image_url': 'http://abs.twimg.com/images/themes/theme1/bg.png', 'profile_background_image_url_https': 'https://abs.twimg.com/images/themes/theme1/bg.png', 'profile_background_tile': False, 'profile_image_url': 'http://pbs.twimg.com/profile_images/1182300618423037953/4SIk1aUX_normal.jpg', 'profile_image_url_https': 'https://pbs.twimg.com/profile_images/1182300618423037953/4SIk1aUX_normal.jpg', 'profile_banner_url': 'https://pbs.twimg.com/profile_banners/2343677454/1570717723', 'profile_link_color': '1DA1F2', 'profile_sidebar_border_color': 'C0DEED', 'profile_sidebar_fill_color': 'DDEEF6', 'profile_text_color': '333333', 'profile_use_background_image': True, 'has_extended_profile': False, 'default_profile': True, 'default_profile_image': False, 'following': False, 'follow_request_sent': False, 'notifications': False, 'translator_type': 'none'}, id=2343677454, id_str='2343677454', name=\"Ra's Al Ghul\", screen_name='ra_al_Ghul_', location='India', description='Just another barca fan', url=None, entities={'description': {'urls': []}}, protected=False, followers_count=67, friends_count=944, listed_count=0, created_at=datetime.datetime(2014, 2, 14, 14, 45, 5), favourites_count=9115, utc_offset=None, time_zone=None, geo_enabled=False, verified=False, statuses_count=6428, lang=None, contributors_enabled=False, is_translator=False, is_translation_enabled=False, profile_background_color='C0DEED', profile_background_image_url='http://abs.twimg.com/images/themes/theme1/bg.png', profile_background_image_url_https='https://abs.twimg.com/images/themes/theme1/bg.png', profile_background_tile=False, profile_image_url='http://pbs.twimg.com/profile_images/1182300618423037953/4SIk1aUX_normal.jpg', profile_image_url_https='https://pbs.twimg.com/profile_images/1182300618423037953/4SIk1aUX_normal.jpg', profile_banner_url='https://pbs.twimg.com/profile_banners/2343677454/1570717723', profile_link_color='1DA1F2', profile_sidebar_border_color='C0DEED', profile_sidebar_fill_color='DDEEF6', profile_text_color='333333', profile_use_background_image=True, has_extended_profile=False, default_profile=True, default_profile_image=False, following=False, follow_request_sent=False, notifications=False, translator_type='none'), geo=None, coordinates=None, place=None, contributors=None, is_quote_status=False, retweet_count=0, favorite_count=0, favorited=False, retweeted=False, lang='en') \n",
      "\n",
      "----------------------------------------------\n",
      "\n",
      "Status(_api=<tweepy.api.API object at 0x0000000008882888>, _json={'created_at': 'Sun Nov 01 08:10:14 +0000 2020', 'id': 1322813183975972864, 'id_str': '1322813183975972864', 'full_text': '#Last one week:\\n\\nMumbai Winning\\nCSK winning a thriller\\nDelhi kept losing\\nRCB struggling\\nSRH bowling well\\nRR beat Mumbai\\n\\nBusiness as usual in IPL #Cricket', 'truncated': False, 'display_text_range': [0, 154], 'entities': {'hashtags': [{'text': 'Last', 'indices': [0, 5]}, {'text': 'Cricket', 'indices': [146, 154]}], 'symbols': [], 'user_mentions': [], 'urls': []}, 'metadata': {'iso_language_code': 'en', 'result_type': 'recent'}, 'source': '<a href=\"https://ifttt.com\" rel=\"nofollow\">IFTTT</a>', 'in_reply_to_status_id': None, 'in_reply_to_status_id_str': None, 'in_reply_to_user_id': None, 'in_reply_to_user_id_str': None, 'in_reply_to_screen_name': None, 'user': {'id': 768404182336360449, 'id_str': '768404182336360449', 'name': 'IccCWCup2019', 'screen_name': 'EspnCricWorld', 'location': 'India', 'description': 'Cricket score alerts from @ESPNcricinfo for all wickets, milestones, 100-run stands, team 100s, and final scores in Tests, ODIs, T20Is. Follow the scores here', 'url': 'https://t.co/luGayMLELD', 'entities': {'url': {'urls': [{'url': 'https://t.co/luGayMLELD', 'expanded_url': 'http://www.EspnCricWorld.com', 'display_url': 'EspnCricWorld.com', 'indices': [0, 23]}]}, 'description': {'urls': []}}, 'protected': False, 'followers_count': 772, 'friends_count': 0, 'listed_count': 0, 'created_at': 'Wed Aug 24 11:06:48 +0000 2016', 'favourites_count': 2, 'utc_offset': None, 'time_zone': None, 'geo_enabled': False, 'verified': False, 'statuses_count': 57224, 'lang': None, 'contributors_enabled': False, 'is_translator': False, 'is_translation_enabled': False, 'profile_background_color': '000000', 'profile_background_image_url': 'http://abs.twimg.com/images/themes/theme1/bg.png', 'profile_background_image_url_https': 'https://abs.twimg.com/images/themes/theme1/bg.png', 'profile_background_tile': False, 'profile_image_url': 'http://pbs.twimg.com/profile_images/1042978845417041920/OA4Nx5wH_normal.jpg', 'profile_image_url_https': 'https://pbs.twimg.com/profile_images/1042978845417041920/OA4Nx5wH_normal.jpg', 'profile_banner_url': 'https://pbs.twimg.com/profile_banners/768404182336360449/1505891800', 'profile_link_color': 'E81C4F', 'profile_sidebar_border_color': '000000', 'profile_sidebar_fill_color': '000000', 'profile_text_color': '000000', 'profile_use_background_image': False, 'has_extended_profile': True, 'default_profile': False, 'default_profile_image': False, 'following': False, 'follow_request_sent': False, 'notifications': False, 'translator_type': 'none'}, 'geo': None, 'coordinates': None, 'place': None, 'contributors': None, 'is_quote_status': False, 'retweet_count': 0, 'favorite_count': 0, 'favorited': False, 'retweeted': False, 'lang': 'en'}, created_at=datetime.datetime(2020, 11, 1, 8, 10, 14), id=1322813183975972864, id_str='1322813183975972864', full_text='#Last one week:\\n\\nMumbai Winning\\nCSK winning a thriller\\nDelhi kept losing\\nRCB struggling\\nSRH bowling well\\nRR beat Mumbai\\n\\nBusiness as usual in IPL #Cricket', truncated=False, display_text_range=[0, 154], entities={'hashtags': [{'text': 'Last', 'indices': [0, 5]}, {'text': 'Cricket', 'indices': [146, 154]}], 'symbols': [], 'user_mentions': [], 'urls': []}, metadata={'iso_language_code': 'en', 'result_type': 'recent'}, source='IFTTT', source_url='https://ifttt.com', in_reply_to_status_id=None, in_reply_to_status_id_str=None, in_reply_to_user_id=None, in_reply_to_user_id_str=None, in_reply_to_screen_name=None, author=User(_api=<tweepy.api.API object at 0x0000000008882888>, _json={'id': 768404182336360449, 'id_str': '768404182336360449', 'name': 'IccCWCup2019', 'screen_name': 'EspnCricWorld', 'location': 'India', 'description': 'Cricket score alerts from @ESPNcricinfo for all wickets, milestones, 100-run stands, team 100s, and final scores in Tests, ODIs, T20Is. Follow the scores here', 'url': 'https://t.co/luGayMLELD', 'entities': {'url': {'urls': [{'url': 'https://t.co/luGayMLELD', 'expanded_url': 'http://www.EspnCricWorld.com', 'display_url': 'EspnCricWorld.com', 'indices': [0, 23]}]}, 'description': {'urls': []}}, 'protected': False, 'followers_count': 772, 'friends_count': 0, 'listed_count': 0, 'created_at': 'Wed Aug 24 11:06:48 +0000 2016', 'favourites_count': 2, 'utc_offset': None, 'time_zone': None, 'geo_enabled': False, 'verified': False, 'statuses_count': 57224, 'lang': None, 'contributors_enabled': False, 'is_translator': False, 'is_translation_enabled': False, 'profile_background_color': '000000', 'profile_background_image_url': 'http://abs.twimg.com/images/themes/theme1/bg.png', 'profile_background_image_url_https': 'https://abs.twimg.com/images/themes/theme1/bg.png', 'profile_background_tile': False, 'profile_image_url': 'http://pbs.twimg.com/profile_images/1042978845417041920/OA4Nx5wH_normal.jpg', 'profile_image_url_https': 'https://pbs.twimg.com/profile_images/1042978845417041920/OA4Nx5wH_normal.jpg', 'profile_banner_url': 'https://pbs.twimg.com/profile_banners/768404182336360449/1505891800', 'profile_link_color': 'E81C4F', 'profile_sidebar_border_color': '000000', 'profile_sidebar_fill_color': '000000', 'profile_text_color': '000000', 'profile_use_background_image': False, 'has_extended_profile': True, 'default_profile': False, 'default_profile_image': False, 'following': False, 'follow_request_sent': False, 'notifications': False, 'translator_type': 'none'}, id=768404182336360449, id_str='768404182336360449', name='IccCWCup2019', screen_name='EspnCricWorld', location='India', description='Cricket score alerts from @ESPNcricinfo for all wickets, milestones, 100-run stands, team 100s, and final scores in Tests, ODIs, T20Is. Follow the scores here', url='https://t.co/luGayMLELD', entities={'url': {'urls': [{'url': 'https://t.co/luGayMLELD', 'expanded_url': 'http://www.EspnCricWorld.com', 'display_url': 'EspnCricWorld.com', 'indices': [0, 23]}]}, 'description': {'urls': []}}, protected=False, followers_count=772, friends_count=0, listed_count=0, created_at=datetime.datetime(2016, 8, 24, 11, 6, 48), favourites_count=2, utc_offset=None, time_zone=None, geo_enabled=False, verified=False, statuses_count=57224, lang=None, contributors_enabled=False, is_translator=False, is_translation_enabled=False, profile_background_color='000000', profile_background_image_url='http://abs.twimg.com/images/themes/theme1/bg.png', profile_background_image_url_https='https://abs.twimg.com/images/themes/theme1/bg.png', profile_background_tile=False, profile_image_url='http://pbs.twimg.com/profile_images/1042978845417041920/OA4Nx5wH_normal.jpg', profile_image_url_https='https://pbs.twimg.com/profile_images/1042978845417041920/OA4Nx5wH_normal.jpg', profile_banner_url='https://pbs.twimg.com/profile_banners/768404182336360449/1505891800', profile_link_color='E81C4F', profile_sidebar_border_color='000000', profile_sidebar_fill_color='000000', profile_text_color='000000', profile_use_background_image=False, has_extended_profile=True, default_profile=False, default_profile_image=False, following=False, follow_request_sent=False, notifications=False, translator_type='none'), user=User(_api=<tweepy.api.API object at 0x0000000008882888>, _json={'id': 768404182336360449, 'id_str': '768404182336360449', 'name': 'IccCWCup2019', 'screen_name': 'EspnCricWorld', 'location': 'India', 'description': 'Cricket score alerts from @ESPNcricinfo for all wickets, milestones, 100-run stands, team 100s, and final scores in Tests, ODIs, T20Is. Follow the scores here', 'url': 'https://t.co/luGayMLELD', 'entities': {'url': {'urls': [{'url': 'https://t.co/luGayMLELD', 'expanded_url': 'http://www.EspnCricWorld.com', 'display_url': 'EspnCricWorld.com', 'indices': [0, 23]}]}, 'description': {'urls': []}}, 'protected': False, 'followers_count': 772, 'friends_count': 0, 'listed_count': 0, 'created_at': 'Wed Aug 24 11:06:48 +0000 2016', 'favourites_count': 2, 'utc_offset': None, 'time_zone': None, 'geo_enabled': False, 'verified': False, 'statuses_count': 57224, 'lang': None, 'contributors_enabled': False, 'is_translator': False, 'is_translation_enabled': False, 'profile_background_color': '000000', 'profile_background_image_url': 'http://abs.twimg.com/images/themes/theme1/bg.png', 'profile_background_image_url_https': 'https://abs.twimg.com/images/themes/theme1/bg.png', 'profile_background_tile': False, 'profile_image_url': 'http://pbs.twimg.com/profile_images/1042978845417041920/OA4Nx5wH_normal.jpg', 'profile_image_url_https': 'https://pbs.twimg.com/profile_images/1042978845417041920/OA4Nx5wH_normal.jpg', 'profile_banner_url': 'https://pbs.twimg.com/profile_banners/768404182336360449/1505891800', 'profile_link_color': 'E81C4F', 'profile_sidebar_border_color': '000000', 'profile_sidebar_fill_color': '000000', 'profile_text_color': '000000', 'profile_use_background_image': False, 'has_extended_profile': True, 'default_profile': False, 'default_profile_image': False, 'following': False, 'follow_request_sent': False, 'notifications': False, 'translator_type': 'none'}, id=768404182336360449, id_str='768404182336360449', name='IccCWCup2019', screen_name='EspnCricWorld', location='India', description='Cricket score alerts from @ESPNcricinfo for all wickets, milestones, 100-run stands, team 100s, and final scores in Tests, ODIs, T20Is. Follow the scores here', url='https://t.co/luGayMLELD', entities={'url': {'urls': [{'url': 'https://t.co/luGayMLELD', 'expanded_url': 'http://www.EspnCricWorld.com', 'display_url': 'EspnCricWorld.com', 'indices': [0, 23]}]}, 'description': {'urls': []}}, protected=False, followers_count=772, friends_count=0, listed_count=0, created_at=datetime.datetime(2016, 8, 24, 11, 6, 48), favourites_count=2, utc_offset=None, time_zone=None, geo_enabled=False, verified=False, statuses_count=57224, lang=None, contributors_enabled=False, is_translator=False, is_translation_enabled=False, profile_background_color='000000', profile_background_image_url='http://abs.twimg.com/images/themes/theme1/bg.png', profile_background_image_url_https='https://abs.twimg.com/images/themes/theme1/bg.png', profile_background_tile=False, profile_image_url='http://pbs.twimg.com/profile_images/1042978845417041920/OA4Nx5wH_normal.jpg', profile_image_url_https='https://pbs.twimg.com/profile_images/1042978845417041920/OA4Nx5wH_normal.jpg', profile_banner_url='https://pbs.twimg.com/profile_banners/768404182336360449/1505891800', profile_link_color='E81C4F', profile_sidebar_border_color='000000', profile_sidebar_fill_color='000000', profile_text_color='000000', profile_use_background_image=False, has_extended_profile=True, default_profile=False, default_profile_image=False, following=False, follow_request_sent=False, notifications=False, translator_type='none'), geo=None, coordinates=None, place=None, contributors=None, is_quote_status=False, retweet_count=0, favorite_count=0, favorited=False, retweeted=False, lang='en') \n",
      "\n",
      "----------------------------------------------\n",
      "\n",
      "Status(_api=<tweepy.api.API object at 0x0000000008882888>, _json={'created_at': 'Sun Nov 01 06:00:12 +0000 2020', 'id': 1322780460833886208, 'id_str': '1322780460833886208', 'full_text': 'He said \"I will gift Virat ipl Trophy for this Birthday\"\\nHe also said \"we are not here just to qualify and okay knockouts, we are here to be in top2\"\\nHe even said \"if we lose 3 we can win 3 in a row\"\\n\\nHe has loser mentality?\\nAt 36 after 2 years of retirement still winning for rcb', 'truncated': False, 'display_text_range': [0, 280], 'entities': {'hashtags': [], 'symbols': [], 'user_mentions': [], 'urls': []}, 'metadata': {'iso_language_code': 'en', 'result_type': 'recent'}, 'source': '<a href=\"http://twitter.com/download/android\" rel=\"nofollow\">Twitter for Android</a>', 'in_reply_to_status_id': None, 'in_reply_to_status_id_str': None, 'in_reply_to_user_id': None, 'in_reply_to_user_id_str': None, 'in_reply_to_screen_name': None, 'user': {'id': 1120531055205707777, 'id_str': '1120531055205707777', 'name': '#Playbold❤', 'screen_name': 'being_prakx', 'location': 'KING KOHLI ERA 😎', 'description': \"Crazy Fangirl💃Only Kohli matters🤙💥👑🦁 It's a Bird🦅 Its a Plane✈ Its Kohli...Virat Kohli 👑🏏Anushka Sharma❤AbDe🦸🏏 Aishwarya Rai 🥰 Dulquer 🥰\", 'url': None, 'entities': {'description': {'urls': []}}, 'protected': False, 'followers_count': 270, 'friends_count': 752, 'listed_count': 0, 'created_at': 'Tue Apr 23 03:33:16 +0000 2019', 'favourites_count': 24350, 'utc_offset': None, 'time_zone': None, 'geo_enabled': False, 'verified': False, 'statuses_count': 23785, 'lang': None, 'contributors_enabled': False, 'is_translator': False, 'is_translation_enabled': False, 'profile_background_color': 'F5F8FA', 'profile_background_image_url': None, 'profile_background_image_url_https': None, 'profile_background_tile': False, 'profile_image_url': 'http://pbs.twimg.com/profile_images/1318792815573225472/bKzJjP6D_normal.jpg', 'profile_image_url_https': 'https://pbs.twimg.com/profile_images/1318792815573225472/bKzJjP6D_normal.jpg', 'profile_banner_url': 'https://pbs.twimg.com/profile_banners/1120531055205707777/1600859868', 'profile_link_color': '1DA1F2', 'profile_sidebar_border_color': 'C0DEED', 'profile_sidebar_fill_color': 'DDEEF6', 'profile_text_color': '333333', 'profile_use_background_image': True, 'has_extended_profile': False, 'default_profile': True, 'default_profile_image': False, 'following': False, 'follow_request_sent': False, 'notifications': False, 'translator_type': 'none'}, 'geo': None, 'coordinates': None, 'place': None, 'contributors': None, 'is_quote_status': False, 'retweet_count': 5, 'favorite_count': 32, 'favorited': False, 'retweeted': False, 'lang': 'en'}, created_at=datetime.datetime(2020, 11, 1, 6, 0, 12), id=1322780460833886208, id_str='1322780460833886208', full_text='He said \"I will gift Virat ipl Trophy for this Birthday\"\\nHe also said \"we are not here just to qualify and okay knockouts, we are here to be in top2\"\\nHe even said \"if we lose 3 we can win 3 in a row\"\\n\\nHe has loser mentality?\\nAt 36 after 2 years of retirement still winning for rcb', truncated=False, display_text_range=[0, 280], entities={'hashtags': [], 'symbols': [], 'user_mentions': [], 'urls': []}, metadata={'iso_language_code': 'en', 'result_type': 'recent'}, source='Twitter for Android', source_url='http://twitter.com/download/android', in_reply_to_status_id=None, in_reply_to_status_id_str=None, in_reply_to_user_id=None, in_reply_to_user_id_str=None, in_reply_to_screen_name=None, author=User(_api=<tweepy.api.API object at 0x0000000008882888>, _json={'id': 1120531055205707777, 'id_str': '1120531055205707777', 'name': '#Playbold❤', 'screen_name': 'being_prakx', 'location': 'KING KOHLI ERA 😎', 'description': \"Crazy Fangirl💃Only Kohli matters🤙💥👑🦁 It's a Bird🦅 Its a Plane✈ Its Kohli...Virat Kohli 👑🏏Anushka Sharma❤AbDe🦸🏏 Aishwarya Rai 🥰 Dulquer 🥰\", 'url': None, 'entities': {'description': {'urls': []}}, 'protected': False, 'followers_count': 270, 'friends_count': 752, 'listed_count': 0, 'created_at': 'Tue Apr 23 03:33:16 +0000 2019', 'favourites_count': 24350, 'utc_offset': None, 'time_zone': None, 'geo_enabled': False, 'verified': False, 'statuses_count': 23785, 'lang': None, 'contributors_enabled': False, 'is_translator': False, 'is_translation_enabled': False, 'profile_background_color': 'F5F8FA', 'profile_background_image_url': None, 'profile_background_image_url_https': None, 'profile_background_tile': False, 'profile_image_url': 'http://pbs.twimg.com/profile_images/1318792815573225472/bKzJjP6D_normal.jpg', 'profile_image_url_https': 'https://pbs.twimg.com/profile_images/1318792815573225472/bKzJjP6D_normal.jpg', 'profile_banner_url': 'https://pbs.twimg.com/profile_banners/1120531055205707777/1600859868', 'profile_link_color': '1DA1F2', 'profile_sidebar_border_color': 'C0DEED', 'profile_sidebar_fill_color': 'DDEEF6', 'profile_text_color': '333333', 'profile_use_background_image': True, 'has_extended_profile': False, 'default_profile': True, 'default_profile_image': False, 'following': False, 'follow_request_sent': False, 'notifications': False, 'translator_type': 'none'}, id=1120531055205707777, id_str='1120531055205707777', name='#Playbold❤', screen_name='being_prakx', location='KING KOHLI ERA 😎', description=\"Crazy Fangirl💃Only Kohli matters🤙💥👑🦁 It's a Bird🦅 Its a Plane✈ Its Kohli...Virat Kohli 👑🏏Anushka Sharma❤AbDe🦸🏏 Aishwarya Rai 🥰 Dulquer 🥰\", url=None, entities={'description': {'urls': []}}, protected=False, followers_count=270, friends_count=752, listed_count=0, created_at=datetime.datetime(2019, 4, 23, 3, 33, 16), favourites_count=24350, utc_offset=None, time_zone=None, geo_enabled=False, verified=False, statuses_count=23785, lang=None, contributors_enabled=False, is_translator=False, is_translation_enabled=False, profile_background_color='F5F8FA', profile_background_image_url=None, profile_background_image_url_https=None, profile_background_tile=False, profile_image_url='http://pbs.twimg.com/profile_images/1318792815573225472/bKzJjP6D_normal.jpg', profile_image_url_https='https://pbs.twimg.com/profile_images/1318792815573225472/bKzJjP6D_normal.jpg', profile_banner_url='https://pbs.twimg.com/profile_banners/1120531055205707777/1600859868', profile_link_color='1DA1F2', profile_sidebar_border_color='C0DEED', profile_sidebar_fill_color='DDEEF6', profile_text_color='333333', profile_use_background_image=True, has_extended_profile=False, default_profile=True, default_profile_image=False, following=False, follow_request_sent=False, notifications=False, translator_type='none'), user=User(_api=<tweepy.api.API object at 0x0000000008882888>, _json={'id': 1120531055205707777, 'id_str': '1120531055205707777', 'name': '#Playbold❤', 'screen_name': 'being_prakx', 'location': 'KING KOHLI ERA 😎', 'description': \"Crazy Fangirl💃Only Kohli matters🤙💥👑🦁 It's a Bird🦅 Its a Plane✈ Its Kohli...Virat Kohli 👑🏏Anushka Sharma❤AbDe🦸🏏 Aishwarya Rai 🥰 Dulquer 🥰\", 'url': None, 'entities': {'description': {'urls': []}}, 'protected': False, 'followers_count': 270, 'friends_count': 752, 'listed_count': 0, 'created_at': 'Tue Apr 23 03:33:16 +0000 2019', 'favourites_count': 24350, 'utc_offset': None, 'time_zone': None, 'geo_enabled': False, 'verified': False, 'statuses_count': 23785, 'lang': None, 'contributors_enabled': False, 'is_translator': False, 'is_translation_enabled': False, 'profile_background_color': 'F5F8FA', 'profile_background_image_url': None, 'profile_background_image_url_https': None, 'profile_background_tile': False, 'profile_image_url': 'http://pbs.twimg.com/profile_images/1318792815573225472/bKzJjP6D_normal.jpg', 'profile_image_url_https': 'https://pbs.twimg.com/profile_images/1318792815573225472/bKzJjP6D_normal.jpg', 'profile_banner_url': 'https://pbs.twimg.com/profile_banners/1120531055205707777/1600859868', 'profile_link_color': '1DA1F2', 'profile_sidebar_border_color': 'C0DEED', 'profile_sidebar_fill_color': 'DDEEF6', 'profile_text_color': '333333', 'profile_use_background_image': True, 'has_extended_profile': False, 'default_profile': True, 'default_profile_image': False, 'following': False, 'follow_request_sent': False, 'notifications': False, 'translator_type': 'none'}, id=1120531055205707777, id_str='1120531055205707777', name='#Playbold❤', screen_name='being_prakx', location='KING KOHLI ERA 😎', description=\"Crazy Fangirl💃Only Kohli matters🤙💥👑🦁 It's a Bird🦅 Its a Plane✈ Its Kohli...Virat Kohli 👑🏏Anushka Sharma❤AbDe🦸🏏 Aishwarya Rai 🥰 Dulquer 🥰\", url=None, entities={'description': {'urls': []}}, protected=False, followers_count=270, friends_count=752, listed_count=0, created_at=datetime.datetime(2019, 4, 23, 3, 33, 16), favourites_count=24350, utc_offset=None, time_zone=None, geo_enabled=False, verified=False, statuses_count=23785, lang=None, contributors_enabled=False, is_translator=False, is_translation_enabled=False, profile_background_color='F5F8FA', profile_background_image_url=None, profile_background_image_url_https=None, profile_background_tile=False, profile_image_url='http://pbs.twimg.com/profile_images/1318792815573225472/bKzJjP6D_normal.jpg', profile_image_url_https='https://pbs.twimg.com/profile_images/1318792815573225472/bKzJjP6D_normal.jpg', profile_banner_url='https://pbs.twimg.com/profile_banners/1120531055205707777/1600859868', profile_link_color='1DA1F2', profile_sidebar_border_color='C0DEED', profile_sidebar_fill_color='DDEEF6', profile_text_color='333333', profile_use_background_image=True, has_extended_profile=False, default_profile=True, default_profile_image=False, following=False, follow_request_sent=False, notifications=False, translator_type='none'), geo=None, coordinates=None, place=None, contributors=None, is_quote_status=False, retweet_count=5, favorite_count=32, favorited=False, retweeted=False, lang='en') \n",
      "\n",
      "----------------------------------------------\n",
      "\n",
      "Status(_api=<tweepy.api.API object at 0x0000000008882888>, _json={'created_at': 'Sun Nov 01 05:40:23 +0000 2020', 'id': 1322775472959184896, 'id_str': '1322775472959184896', 'full_text': '@SushantNMehta @vikrantgupta73 \\nThe irony of tommorows rcb vs dc match is that...winner would have highest chance of winning ipl trophy same as mumbai...But loser propbably out of tournament..\\nThis is ipl..', 'truncated': False, 'display_text_range': [0, 206], 'entities': {'hashtags': [], 'symbols': [], 'user_mentions': [{'screen_name': 'SushantNMehta', 'name': 'Sushant Mehta', 'id': 34216035, 'id_str': '34216035', 'indices': [0, 14]}, {'screen_name': 'vikrantgupta73', 'name': 'Vikrant Gupta', 'id': 135110894, 'id_str': '135110894', 'indices': [15, 30]}], 'urls': []}, 'metadata': {'iso_language_code': 'en', 'result_type': 'recent'}, 'source': '<a href=\"http://twitter.com/download/android\" rel=\"nofollow\">Twitter for Android</a>', 'in_reply_to_status_id': None, 'in_reply_to_status_id_str': None, 'in_reply_to_user_id': 34216035, 'in_reply_to_user_id_str': '34216035', 'in_reply_to_screen_name': 'SushantNMehta', 'user': {'id': 1176916872777715713, 'id_str': '1176916872777715713', 'name': 'Yakshith Kotian', 'screen_name': 'KotianYakshith', 'location': 'Dombivali', 'description': 'Chartered Accountant', 'url': None, 'entities': {'description': {'urls': []}}, 'protected': False, 'followers_count': 12, 'friends_count': 56, 'listed_count': 0, 'created_at': 'Wed Sep 25 17:50:51 +0000 2019', 'favourites_count': 120, 'utc_offset': None, 'time_zone': None, 'geo_enabled': False, 'verified': False, 'statuses_count': 419, 'lang': None, 'contributors_enabled': False, 'is_translator': False, 'is_translation_enabled': False, 'profile_background_color': 'F5F8FA', 'profile_background_image_url': None, 'profile_background_image_url_https': None, 'profile_background_tile': False, 'profile_image_url': 'http://pbs.twimg.com/profile_images/1201888415064576000/bN3siHxH_normal.jpg', 'profile_image_url_https': 'https://pbs.twimg.com/profile_images/1201888415064576000/bN3siHxH_normal.jpg', 'profile_link_color': '1DA1F2', 'profile_sidebar_border_color': 'C0DEED', 'profile_sidebar_fill_color': 'DDEEF6', 'profile_text_color': '333333', 'profile_use_background_image': True, 'has_extended_profile': False, 'default_profile': True, 'default_profile_image': False, 'following': False, 'follow_request_sent': False, 'notifications': False, 'translator_type': 'none'}, 'geo': None, 'coordinates': None, 'place': None, 'contributors': None, 'is_quote_status': False, 'retweet_count': 0, 'favorite_count': 0, 'favorited': False, 'retweeted': False, 'lang': 'en'}, created_at=datetime.datetime(2020, 11, 1, 5, 40, 23), id=1322775472959184896, id_str='1322775472959184896', full_text='@SushantNMehta @vikrantgupta73 \\nThe irony of tommorows rcb vs dc match is that...winner would have highest chance of winning ipl trophy same as mumbai...But loser propbably out of tournament..\\nThis is ipl..', truncated=False, display_text_range=[0, 206], entities={'hashtags': [], 'symbols': [], 'user_mentions': [{'screen_name': 'SushantNMehta', 'name': 'Sushant Mehta', 'id': 34216035, 'id_str': '34216035', 'indices': [0, 14]}, {'screen_name': 'vikrantgupta73', 'name': 'Vikrant Gupta', 'id': 135110894, 'id_str': '135110894', 'indices': [15, 30]}], 'urls': []}, metadata={'iso_language_code': 'en', 'result_type': 'recent'}, source='Twitter for Android', source_url='http://twitter.com/download/android', in_reply_to_status_id=None, in_reply_to_status_id_str=None, in_reply_to_user_id=34216035, in_reply_to_user_id_str='34216035', in_reply_to_screen_name='SushantNMehta', author=User(_api=<tweepy.api.API object at 0x0000000008882888>, _json={'id': 1176916872777715713, 'id_str': '1176916872777715713', 'name': 'Yakshith Kotian', 'screen_name': 'KotianYakshith', 'location': 'Dombivali', 'description': 'Chartered Accountant', 'url': None, 'entities': {'description': {'urls': []}}, 'protected': False, 'followers_count': 12, 'friends_count': 56, 'listed_count': 0, 'created_at': 'Wed Sep 25 17:50:51 +0000 2019', 'favourites_count': 120, 'utc_offset': None, 'time_zone': None, 'geo_enabled': False, 'verified': False, 'statuses_count': 419, 'lang': None, 'contributors_enabled': False, 'is_translator': False, 'is_translation_enabled': False, 'profile_background_color': 'F5F8FA', 'profile_background_image_url': None, 'profile_background_image_url_https': None, 'profile_background_tile': False, 'profile_image_url': 'http://pbs.twimg.com/profile_images/1201888415064576000/bN3siHxH_normal.jpg', 'profile_image_url_https': 'https://pbs.twimg.com/profile_images/1201888415064576000/bN3siHxH_normal.jpg', 'profile_link_color': '1DA1F2', 'profile_sidebar_border_color': 'C0DEED', 'profile_sidebar_fill_color': 'DDEEF6', 'profile_text_color': '333333', 'profile_use_background_image': True, 'has_extended_profile': False, 'default_profile': True, 'default_profile_image': False, 'following': False, 'follow_request_sent': False, 'notifications': False, 'translator_type': 'none'}, id=1176916872777715713, id_str='1176916872777715713', name='Yakshith Kotian', screen_name='KotianYakshith', location='Dombivali', description='Chartered Accountant', url=None, entities={'description': {'urls': []}}, protected=False, followers_count=12, friends_count=56, listed_count=0, created_at=datetime.datetime(2019, 9, 25, 17, 50, 51), favourites_count=120, utc_offset=None, time_zone=None, geo_enabled=False, verified=False, statuses_count=419, lang=None, contributors_enabled=False, is_translator=False, is_translation_enabled=False, profile_background_color='F5F8FA', profile_background_image_url=None, profile_background_image_url_https=None, profile_background_tile=False, profile_image_url='http://pbs.twimg.com/profile_images/1201888415064576000/bN3siHxH_normal.jpg', profile_image_url_https='https://pbs.twimg.com/profile_images/1201888415064576000/bN3siHxH_normal.jpg', profile_link_color='1DA1F2', profile_sidebar_border_color='C0DEED', profile_sidebar_fill_color='DDEEF6', profile_text_color='333333', profile_use_background_image=True, has_extended_profile=False, default_profile=True, default_profile_image=False, following=False, follow_request_sent=False, notifications=False, translator_type='none'), user=User(_api=<tweepy.api.API object at 0x0000000008882888>, _json={'id': 1176916872777715713, 'id_str': '1176916872777715713', 'name': 'Yakshith Kotian', 'screen_name': 'KotianYakshith', 'location': 'Dombivali', 'description': 'Chartered Accountant', 'url': None, 'entities': {'description': {'urls': []}}, 'protected': False, 'followers_count': 12, 'friends_count': 56, 'listed_count': 0, 'created_at': 'Wed Sep 25 17:50:51 +0000 2019', 'favourites_count': 120, 'utc_offset': None, 'time_zone': None, 'geo_enabled': False, 'verified': False, 'statuses_count': 419, 'lang': None, 'contributors_enabled': False, 'is_translator': False, 'is_translation_enabled': False, 'profile_background_color': 'F5F8FA', 'profile_background_image_url': None, 'profile_background_image_url_https': None, 'profile_background_tile': False, 'profile_image_url': 'http://pbs.twimg.com/profile_images/1201888415064576000/bN3siHxH_normal.jpg', 'profile_image_url_https': 'https://pbs.twimg.com/profile_images/1201888415064576000/bN3siHxH_normal.jpg', 'profile_link_color': '1DA1F2', 'profile_sidebar_border_color': 'C0DEED', 'profile_sidebar_fill_color': 'DDEEF6', 'profile_text_color': '333333', 'profile_use_background_image': True, 'has_extended_profile': False, 'default_profile': True, 'default_profile_image': False, 'following': False, 'follow_request_sent': False, 'notifications': False, 'translator_type': 'none'}, id=1176916872777715713, id_str='1176916872777715713', name='Yakshith Kotian', screen_name='KotianYakshith', location='Dombivali', description='Chartered Accountant', url=None, entities={'description': {'urls': []}}, protected=False, followers_count=12, friends_count=56, listed_count=0, created_at=datetime.datetime(2019, 9, 25, 17, 50, 51), favourites_count=120, utc_offset=None, time_zone=None, geo_enabled=False, verified=False, statuses_count=419, lang=None, contributors_enabled=False, is_translator=False, is_translation_enabled=False, profile_background_color='F5F8FA', profile_background_image_url=None, profile_background_image_url_https=None, profile_background_tile=False, profile_image_url='http://pbs.twimg.com/profile_images/1201888415064576000/bN3siHxH_normal.jpg', profile_image_url_https='https://pbs.twimg.com/profile_images/1201888415064576000/bN3siHxH_normal.jpg', profile_link_color='1DA1F2', profile_sidebar_border_color='C0DEED', profile_sidebar_fill_color='DDEEF6', profile_text_color='333333', profile_use_background_image=True, has_extended_profile=False, default_profile=True, default_profile_image=False, following=False, follow_request_sent=False, notifications=False, translator_type='none'), geo=None, coordinates=None, place=None, contributors=None, is_quote_status=False, retweet_count=0, favorite_count=0, favorited=False, retweeted=False, lang='en') \n",
      "\n",
      "----------------------------------------------\n",
      "\n",
      "Status(_api=<tweepy.api.API object at 0x0000000008882888>, _json={'created_at': 'Sun Nov 01 01:25:42 +0000 2020', 'id': 1322711379380350978, 'id_str': '1322711379380350978', 'full_text': \"Just that CSK played badly this year RCB might qualify otherwise no chance....\\nAt the moment clear IPL winner for 2020 is MI.... No one is close to them... Forget winning others won't even compete with them #rcbvssrh\", 'truncated': False, 'display_text_range': [0, 216], 'entities': {'hashtags': [{'text': 'rcbvssrh', 'indices': [207, 216]}], 'symbols': [], 'user_mentions': [], 'urls': []}, 'metadata': {'iso_language_code': 'en', 'result_type': 'recent'}, 'source': '<a href=\"http://twitter.com/download/android\" rel=\"nofollow\">Twitter for Android</a>', 'in_reply_to_status_id': None, 'in_reply_to_status_id_str': None, 'in_reply_to_user_id': None, 'in_reply_to_user_id_str': None, 'in_reply_to_screen_name': None, 'user': {'id': 285519424, 'id_str': '285519424', 'name': 'Balaji S', 'screen_name': 'BalajiS1', 'location': '', 'description': '', 'url': None, 'entities': {'description': {'urls': []}}, 'protected': False, 'followers_count': 6, 'friends_count': 54, 'listed_count': 0, 'created_at': 'Thu Apr 21 09:12:32 +0000 2011', 'favourites_count': 18, 'utc_offset': None, 'time_zone': None, 'geo_enabled': True, 'verified': False, 'statuses_count': 47, 'lang': None, 'contributors_enabled': False, 'is_translator': False, 'is_translation_enabled': False, 'profile_background_color': 'C0DEED', 'profile_background_image_url': 'http://abs.twimg.com/images/themes/theme1/bg.png', 'profile_background_image_url_https': 'https://abs.twimg.com/images/themes/theme1/bg.png', 'profile_background_tile': False, 'profile_image_url': 'http://abs.twimg.com/sticky/default_profile_images/default_profile_normal.png', 'profile_image_url_https': 'https://abs.twimg.com/sticky/default_profile_images/default_profile_normal.png', 'profile_link_color': '1DA1F2', 'profile_sidebar_border_color': 'C0DEED', 'profile_sidebar_fill_color': 'DDEEF6', 'profile_text_color': '333333', 'profile_use_background_image': True, 'has_extended_profile': False, 'default_profile': True, 'default_profile_image': True, 'following': False, 'follow_request_sent': False, 'notifications': False, 'translator_type': 'none'}, 'geo': None, 'coordinates': None, 'place': None, 'contributors': None, 'is_quote_status': False, 'retweet_count': 0, 'favorite_count': 1, 'favorited': False, 'retweeted': False, 'lang': 'en'}, created_at=datetime.datetime(2020, 11, 1, 1, 25, 42), id=1322711379380350978, id_str='1322711379380350978', full_text=\"Just that CSK played badly this year RCB might qualify otherwise no chance....\\nAt the moment clear IPL winner for 2020 is MI.... No one is close to them... Forget winning others won't even compete with them #rcbvssrh\", truncated=False, display_text_range=[0, 216], entities={'hashtags': [{'text': 'rcbvssrh', 'indices': [207, 216]}], 'symbols': [], 'user_mentions': [], 'urls': []}, metadata={'iso_language_code': 'en', 'result_type': 'recent'}, source='Twitter for Android', source_url='http://twitter.com/download/android', in_reply_to_status_id=None, in_reply_to_status_id_str=None, in_reply_to_user_id=None, in_reply_to_user_id_str=None, in_reply_to_screen_name=None, author=User(_api=<tweepy.api.API object at 0x0000000008882888>, _json={'id': 285519424, 'id_str': '285519424', 'name': 'Balaji S', 'screen_name': 'BalajiS1', 'location': '', 'description': '', 'url': None, 'entities': {'description': {'urls': []}}, 'protected': False, 'followers_count': 6, 'friends_count': 54, 'listed_count': 0, 'created_at': 'Thu Apr 21 09:12:32 +0000 2011', 'favourites_count': 18, 'utc_offset': None, 'time_zone': None, 'geo_enabled': True, 'verified': False, 'statuses_count': 47, 'lang': None, 'contributors_enabled': False, 'is_translator': False, 'is_translation_enabled': False, 'profile_background_color': 'C0DEED', 'profile_background_image_url': 'http://abs.twimg.com/images/themes/theme1/bg.png', 'profile_background_image_url_https': 'https://abs.twimg.com/images/themes/theme1/bg.png', 'profile_background_tile': False, 'profile_image_url': 'http://abs.twimg.com/sticky/default_profile_images/default_profile_normal.png', 'profile_image_url_https': 'https://abs.twimg.com/sticky/default_profile_images/default_profile_normal.png', 'profile_link_color': '1DA1F2', 'profile_sidebar_border_color': 'C0DEED', 'profile_sidebar_fill_color': 'DDEEF6', 'profile_text_color': '333333', 'profile_use_background_image': True, 'has_extended_profile': False, 'default_profile': True, 'default_profile_image': True, 'following': False, 'follow_request_sent': False, 'notifications': False, 'translator_type': 'none'}, id=285519424, id_str='285519424', name='Balaji S', screen_name='BalajiS1', location='', description='', url=None, entities={'description': {'urls': []}}, protected=False, followers_count=6, friends_count=54, listed_count=0, created_at=datetime.datetime(2011, 4, 21, 9, 12, 32), favourites_count=18, utc_offset=None, time_zone=None, geo_enabled=True, verified=False, statuses_count=47, lang=None, contributors_enabled=False, is_translator=False, is_translation_enabled=False, profile_background_color='C0DEED', profile_background_image_url='http://abs.twimg.com/images/themes/theme1/bg.png', profile_background_image_url_https='https://abs.twimg.com/images/themes/theme1/bg.png', profile_background_tile=False, profile_image_url='http://abs.twimg.com/sticky/default_profile_images/default_profile_normal.png', profile_image_url_https='https://abs.twimg.com/sticky/default_profile_images/default_profile_normal.png', profile_link_color='1DA1F2', profile_sidebar_border_color='C0DEED', profile_sidebar_fill_color='DDEEF6', profile_text_color='333333', profile_use_background_image=True, has_extended_profile=False, default_profile=True, default_profile_image=True, following=False, follow_request_sent=False, notifications=False, translator_type='none'), user=User(_api=<tweepy.api.API object at 0x0000000008882888>, _json={'id': 285519424, 'id_str': '285519424', 'name': 'Balaji S', 'screen_name': 'BalajiS1', 'location': '', 'description': '', 'url': None, 'entities': {'description': {'urls': []}}, 'protected': False, 'followers_count': 6, 'friends_count': 54, 'listed_count': 0, 'created_at': 'Thu Apr 21 09:12:32 +0000 2011', 'favourites_count': 18, 'utc_offset': None, 'time_zone': None, 'geo_enabled': True, 'verified': False, 'statuses_count': 47, 'lang': None, 'contributors_enabled': False, 'is_translator': False, 'is_translation_enabled': False, 'profile_background_color': 'C0DEED', 'profile_background_image_url': 'http://abs.twimg.com/images/themes/theme1/bg.png', 'profile_background_image_url_https': 'https://abs.twimg.com/images/themes/theme1/bg.png', 'profile_background_tile': False, 'profile_image_url': 'http://abs.twimg.com/sticky/default_profile_images/default_profile_normal.png', 'profile_image_url_https': 'https://abs.twimg.com/sticky/default_profile_images/default_profile_normal.png', 'profile_link_color': '1DA1F2', 'profile_sidebar_border_color': 'C0DEED', 'profile_sidebar_fill_color': 'DDEEF6', 'profile_text_color': '333333', 'profile_use_background_image': True, 'has_extended_profile': False, 'default_profile': True, 'default_profile_image': True, 'following': False, 'follow_request_sent': False, 'notifications': False, 'translator_type': 'none'}, id=285519424, id_str='285519424', name='Balaji S', screen_name='BalajiS1', location='', description='', url=None, entities={'description': {'urls': []}}, protected=False, followers_count=6, friends_count=54, listed_count=0, created_at=datetime.datetime(2011, 4, 21, 9, 12, 32), favourites_count=18, utc_offset=None, time_zone=None, geo_enabled=True, verified=False, statuses_count=47, lang=None, contributors_enabled=False, is_translator=False, is_translation_enabled=False, profile_background_color='C0DEED', profile_background_image_url='http://abs.twimg.com/images/themes/theme1/bg.png', profile_background_image_url_https='https://abs.twimg.com/images/themes/theme1/bg.png', profile_background_tile=False, profile_image_url='http://abs.twimg.com/sticky/default_profile_images/default_profile_normal.png', profile_image_url_https='https://abs.twimg.com/sticky/default_profile_images/default_profile_normal.png', profile_link_color='1DA1F2', profile_sidebar_border_color='C0DEED', profile_sidebar_fill_color='DDEEF6', profile_text_color='333333', profile_use_background_image=True, has_extended_profile=False, default_profile=True, default_profile_image=True, following=False, follow_request_sent=False, notifications=False, translator_type='none'), geo=None, coordinates=None, place=None, contributors=None, is_quote_status=False, retweet_count=0, favorite_count=1, favorited=False, retweeted=False, lang='en') \n",
      "\n",
      "----------------------------------------------\n",
      "\n",
      "Status(_api=<tweepy.api.API object at 0x0000000008882888>, _json={'created_at': 'Sat Oct 31 18:57:20 +0000 2020', 'id': 1322613646204174336, 'id_str': '1322613646204174336', 'full_text': '@Cric_Rishabh its not just about the talent... the leader has to have winning qualities aggressive to pick up fights THE RIGHT FIGHTS not mess up and boss around.\\nSorry thats the factor keeping India and RCB away from ICC trophies and IPL silverware.', 'truncated': False, 'display_text_range': [14, 250], 'entities': {'hashtags': [], 'symbols': [], 'user_mentions': [{'screen_name': 'Cric_Rishabh', 'name': 'Rishabh Wadhwa', 'id': 2902376407, 'id_str': '2902376407', 'indices': [0, 13]}], 'urls': []}, 'metadata': {'iso_language_code': 'en', 'result_type': 'recent'}, 'source': '<a href=\"https://mobile.twitter.com\" rel=\"nofollow\">Twitter Web App</a>', 'in_reply_to_status_id': 1322565728784936962, 'in_reply_to_status_id_str': '1322565728784936962', 'in_reply_to_user_id': 2902376407, 'in_reply_to_user_id_str': '2902376407', 'in_reply_to_screen_name': 'Cric_Rishabh', 'user': {'id': 1100457532026507264, 'id_str': '1100457532026507264', 'name': 'Varun', 'screen_name': 'varun82163178', 'location': '', 'description': 'Man of the woods ...and beaches', 'url': None, 'entities': {'description': {'urls': []}}, 'protected': False, 'followers_count': 88, 'friends_count': 441, 'listed_count': 0, 'created_at': 'Tue Feb 26 18:08:15 +0000 2019', 'favourites_count': 3457, 'utc_offset': None, 'time_zone': None, 'geo_enabled': False, 'verified': False, 'statuses_count': 1460, 'lang': None, 'contributors_enabled': False, 'is_translator': False, 'is_translation_enabled': False, 'profile_background_color': 'F5F8FA', 'profile_background_image_url': None, 'profile_background_image_url_https': None, 'profile_background_tile': False, 'profile_image_url': 'http://pbs.twimg.com/profile_images/1286727845658558464/O84LIpbI_normal.jpg', 'profile_image_url_https': 'https://pbs.twimg.com/profile_images/1286727845658558464/O84LIpbI_normal.jpg', 'profile_link_color': '1DA1F2', 'profile_sidebar_border_color': 'C0DEED', 'profile_sidebar_fill_color': 'DDEEF6', 'profile_text_color': '333333', 'profile_use_background_image': True, 'has_extended_profile': False, 'default_profile': True, 'default_profile_image': False, 'following': False, 'follow_request_sent': False, 'notifications': False, 'translator_type': 'none'}, 'geo': None, 'coordinates': None, 'place': None, 'contributors': None, 'is_quote_status': False, 'retweet_count': 0, 'favorite_count': 1, 'favorited': False, 'retweeted': False, 'lang': 'en'}, created_at=datetime.datetime(2020, 10, 31, 18, 57, 20), id=1322613646204174336, id_str='1322613646204174336', full_text='@Cric_Rishabh its not just about the talent... the leader has to have winning qualities aggressive to pick up fights THE RIGHT FIGHTS not mess up and boss around.\\nSorry thats the factor keeping India and RCB away from ICC trophies and IPL silverware.', truncated=False, display_text_range=[14, 250], entities={'hashtags': [], 'symbols': [], 'user_mentions': [{'screen_name': 'Cric_Rishabh', 'name': 'Rishabh Wadhwa', 'id': 2902376407, 'id_str': '2902376407', 'indices': [0, 13]}], 'urls': []}, metadata={'iso_language_code': 'en', 'result_type': 'recent'}, source='Twitter Web App', source_url='https://mobile.twitter.com', in_reply_to_status_id=1322565728784936962, in_reply_to_status_id_str='1322565728784936962', in_reply_to_user_id=2902376407, in_reply_to_user_id_str='2902376407', in_reply_to_screen_name='Cric_Rishabh', author=User(_api=<tweepy.api.API object at 0x0000000008882888>, _json={'id': 1100457532026507264, 'id_str': '1100457532026507264', 'name': 'Varun', 'screen_name': 'varun82163178', 'location': '', 'description': 'Man of the woods ...and beaches', 'url': None, 'entities': {'description': {'urls': []}}, 'protected': False, 'followers_count': 88, 'friends_count': 441, 'listed_count': 0, 'created_at': 'Tue Feb 26 18:08:15 +0000 2019', 'favourites_count': 3457, 'utc_offset': None, 'time_zone': None, 'geo_enabled': False, 'verified': False, 'statuses_count': 1460, 'lang': None, 'contributors_enabled': False, 'is_translator': False, 'is_translation_enabled': False, 'profile_background_color': 'F5F8FA', 'profile_background_image_url': None, 'profile_background_image_url_https': None, 'profile_background_tile': False, 'profile_image_url': 'http://pbs.twimg.com/profile_images/1286727845658558464/O84LIpbI_normal.jpg', 'profile_image_url_https': 'https://pbs.twimg.com/profile_images/1286727845658558464/O84LIpbI_normal.jpg', 'profile_link_color': '1DA1F2', 'profile_sidebar_border_color': 'C0DEED', 'profile_sidebar_fill_color': 'DDEEF6', 'profile_text_color': '333333', 'profile_use_background_image': True, 'has_extended_profile': False, 'default_profile': True, 'default_profile_image': False, 'following': False, 'follow_request_sent': False, 'notifications': False, 'translator_type': 'none'}, id=1100457532026507264, id_str='1100457532026507264', name='Varun', screen_name='varun82163178', location='', description='Man of the woods ...and beaches', url=None, entities={'description': {'urls': []}}, protected=False, followers_count=88, friends_count=441, listed_count=0, created_at=datetime.datetime(2019, 2, 26, 18, 8, 15), favourites_count=3457, utc_offset=None, time_zone=None, geo_enabled=False, verified=False, statuses_count=1460, lang=None, contributors_enabled=False, is_translator=False, is_translation_enabled=False, profile_background_color='F5F8FA', profile_background_image_url=None, profile_background_image_url_https=None, profile_background_tile=False, profile_image_url='http://pbs.twimg.com/profile_images/1286727845658558464/O84LIpbI_normal.jpg', profile_image_url_https='https://pbs.twimg.com/profile_images/1286727845658558464/O84LIpbI_normal.jpg', profile_link_color='1DA1F2', profile_sidebar_border_color='C0DEED', profile_sidebar_fill_color='DDEEF6', profile_text_color='333333', profile_use_background_image=True, has_extended_profile=False, default_profile=True, default_profile_image=False, following=False, follow_request_sent=False, notifications=False, translator_type='none'), user=User(_api=<tweepy.api.API object at 0x0000000008882888>, _json={'id': 1100457532026507264, 'id_str': '1100457532026507264', 'name': 'Varun', 'screen_name': 'varun82163178', 'location': '', 'description': 'Man of the woods ...and beaches', 'url': None, 'entities': {'description': {'urls': []}}, 'protected': False, 'followers_count': 88, 'friends_count': 441, 'listed_count': 0, 'created_at': 'Tue Feb 26 18:08:15 +0000 2019', 'favourites_count': 3457, 'utc_offset': None, 'time_zone': None, 'geo_enabled': False, 'verified': False, 'statuses_count': 1460, 'lang': None, 'contributors_enabled': False, 'is_translator': False, 'is_translation_enabled': False, 'profile_background_color': 'F5F8FA', 'profile_background_image_url': None, 'profile_background_image_url_https': None, 'profile_background_tile': False, 'profile_image_url': 'http://pbs.twimg.com/profile_images/1286727845658558464/O84LIpbI_normal.jpg', 'profile_image_url_https': 'https://pbs.twimg.com/profile_images/1286727845658558464/O84LIpbI_normal.jpg', 'profile_link_color': '1DA1F2', 'profile_sidebar_border_color': 'C0DEED', 'profile_sidebar_fill_color': 'DDEEF6', 'profile_text_color': '333333', 'profile_use_background_image': True, 'has_extended_profile': False, 'default_profile': True, 'default_profile_image': False, 'following': False, 'follow_request_sent': False, 'notifications': False, 'translator_type': 'none'}, id=1100457532026507264, id_str='1100457532026507264', name='Varun', screen_name='varun82163178', location='', description='Man of the woods ...and beaches', url=None, entities={'description': {'urls': []}}, protected=False, followers_count=88, friends_count=441, listed_count=0, created_at=datetime.datetime(2019, 2, 26, 18, 8, 15), favourites_count=3457, utc_offset=None, time_zone=None, geo_enabled=False, verified=False, statuses_count=1460, lang=None, contributors_enabled=False, is_translator=False, is_translation_enabled=False, profile_background_color='F5F8FA', profile_background_image_url=None, profile_background_image_url_https=None, profile_background_tile=False, profile_image_url='http://pbs.twimg.com/profile_images/1286727845658558464/O84LIpbI_normal.jpg', profile_image_url_https='https://pbs.twimg.com/profile_images/1286727845658558464/O84LIpbI_normal.jpg', profile_link_color='1DA1F2', profile_sidebar_border_color='C0DEED', profile_sidebar_fill_color='DDEEF6', profile_text_color='333333', profile_use_background_image=True, has_extended_profile=False, default_profile=True, default_profile_image=False, following=False, follow_request_sent=False, notifications=False, translator_type='none'), geo=None, coordinates=None, place=None, contributors=None, is_quote_status=False, retweet_count=0, favorite_count=1, favorited=False, retweeted=False, lang='en') \n",
      "\n",
      "----------------------------------------------\n",
      "\n",
      "Status(_api=<tweepy.api.API object at 0x0000000008882888>, _json={'created_at': 'Sat Oct 31 18:53:26 +0000 2020', 'id': 1322612663923449859, 'id_str': '1322612663923449859', 'full_text': '@raghav_singhvi @venkatsrocking @OmKrishnaPande5 @PKumbharjuvekar @bhogleharsha IPL is not only batsmen  game.. Mumbai is winning mainly because of their star bowlers like Bumrah and Malinga. RCB as a batting side always performed very well.. it was the bowling which lets them down.', 'truncated': False, 'display_text_range': [80, 283], 'entities': {'hashtags': [], 'symbols': [], 'user_mentions': [{'screen_name': 'raghav_singhvi', 'name': 'R', 'id': 1189303815138267136, 'id_str': '1189303815138267136', 'indices': [0, 15]}, {'screen_name': 'venkatsrocking', 'name': 'venkatesh', 'id': 1685434159, 'id_str': '1685434159', 'indices': [16, 31]}, {'screen_name': 'OmKrishnaPande5', 'name': 'Om Krishna Pandey', 'id': 982270188392366081, 'id_str': '982270188392366081', 'indices': [32, 48]}, {'screen_name': 'PKumbharjuvekar', 'name': 'Pratik', 'id': 1182623277895667712, 'id_str': '1182623277895667712', 'indices': [49, 65]}, {'screen_name': 'bhogleharsha', 'name': 'Harsha Bhogle', 'id': 78941611, 'id_str': '78941611', 'indices': [66, 79]}], 'urls': []}, 'metadata': {'iso_language_code': 'en', 'result_type': 'recent'}, 'source': '<a href=\"http://twitter.com/download/android\" rel=\"nofollow\">Twitter for Android</a>', 'in_reply_to_status_id': 1322611893681479680, 'in_reply_to_status_id_str': '1322611893681479680', 'in_reply_to_user_id': 1189303815138267136, 'in_reply_to_user_id_str': '1189303815138267136', 'in_reply_to_screen_name': 'raghav_singhvi', 'user': {'id': 2963647753, 'id_str': '2963647753', 'name': 'Coronavirus', 'screen_name': 'VikkkyHahaha', 'location': '', 'description': '', 'url': None, 'entities': {'description': {'urls': []}}, 'protected': False, 'followers_count': 1, 'friends_count': 222, 'listed_count': 0, 'created_at': 'Wed Jan 07 18:02:49 +0000 2015', 'favourites_count': 1696, 'utc_offset': None, 'time_zone': None, 'geo_enabled': False, 'verified': False, 'statuses_count': 2223, 'lang': None, 'contributors_enabled': False, 'is_translator': False, 'is_translation_enabled': False, 'profile_background_color': 'C0DEED', 'profile_background_image_url': 'http://abs.twimg.com/images/themes/theme1/bg.png', 'profile_background_image_url_https': 'https://abs.twimg.com/images/themes/theme1/bg.png', 'profile_background_tile': False, 'profile_image_url': 'http://pbs.twimg.com/profile_images/1016897096530554880/gJTQyo0t_normal.jpg', 'profile_image_url_https': 'https://pbs.twimg.com/profile_images/1016897096530554880/gJTQyo0t_normal.jpg', 'profile_banner_url': 'https://pbs.twimg.com/profile_banners/2963647753/1482285732', 'profile_link_color': '1DA1F2', 'profile_sidebar_border_color': 'C0DEED', 'profile_sidebar_fill_color': 'DDEEF6', 'profile_text_color': '333333', 'profile_use_background_image': True, 'has_extended_profile': False, 'default_profile': True, 'default_profile_image': False, 'following': False, 'follow_request_sent': False, 'notifications': False, 'translator_type': 'none'}, 'geo': None, 'coordinates': None, 'place': None, 'contributors': None, 'is_quote_status': False, 'retweet_count': 0, 'favorite_count': 0, 'favorited': False, 'retweeted': False, 'lang': 'en'}, created_at=datetime.datetime(2020, 10, 31, 18, 53, 26), id=1322612663923449859, id_str='1322612663923449859', full_text='@raghav_singhvi @venkatsrocking @OmKrishnaPande5 @PKumbharjuvekar @bhogleharsha IPL is not only batsmen  game.. Mumbai is winning mainly because of their star bowlers like Bumrah and Malinga. RCB as a batting side always performed very well.. it was the bowling which lets them down.', truncated=False, display_text_range=[80, 283], entities={'hashtags': [], 'symbols': [], 'user_mentions': [{'screen_name': 'raghav_singhvi', 'name': 'R', 'id': 1189303815138267136, 'id_str': '1189303815138267136', 'indices': [0, 15]}, {'screen_name': 'venkatsrocking', 'name': 'venkatesh', 'id': 1685434159, 'id_str': '1685434159', 'indices': [16, 31]}, {'screen_name': 'OmKrishnaPande5', 'name': 'Om Krishna Pandey', 'id': 982270188392366081, 'id_str': '982270188392366081', 'indices': [32, 48]}, {'screen_name': 'PKumbharjuvekar', 'name': 'Pratik', 'id': 1182623277895667712, 'id_str': '1182623277895667712', 'indices': [49, 65]}, {'screen_name': 'bhogleharsha', 'name': 'Harsha Bhogle', 'id': 78941611, 'id_str': '78941611', 'indices': [66, 79]}], 'urls': []}, metadata={'iso_language_code': 'en', 'result_type': 'recent'}, source='Twitter for Android', source_url='http://twitter.com/download/android', in_reply_to_status_id=1322611893681479680, in_reply_to_status_id_str='1322611893681479680', in_reply_to_user_id=1189303815138267136, in_reply_to_user_id_str='1189303815138267136', in_reply_to_screen_name='raghav_singhvi', author=User(_api=<tweepy.api.API object at 0x0000000008882888>, _json={'id': 2963647753, 'id_str': '2963647753', 'name': 'Coronavirus', 'screen_name': 'VikkkyHahaha', 'location': '', 'description': '', 'url': None, 'entities': {'description': {'urls': []}}, 'protected': False, 'followers_count': 1, 'friends_count': 222, 'listed_count': 0, 'created_at': 'Wed Jan 07 18:02:49 +0000 2015', 'favourites_count': 1696, 'utc_offset': None, 'time_zone': None, 'geo_enabled': False, 'verified': False, 'statuses_count': 2223, 'lang': None, 'contributors_enabled': False, 'is_translator': False, 'is_translation_enabled': False, 'profile_background_color': 'C0DEED', 'profile_background_image_url': 'http://abs.twimg.com/images/themes/theme1/bg.png', 'profile_background_image_url_https': 'https://abs.twimg.com/images/themes/theme1/bg.png', 'profile_background_tile': False, 'profile_image_url': 'http://pbs.twimg.com/profile_images/1016897096530554880/gJTQyo0t_normal.jpg', 'profile_image_url_https': 'https://pbs.twimg.com/profile_images/1016897096530554880/gJTQyo0t_normal.jpg', 'profile_banner_url': 'https://pbs.twimg.com/profile_banners/2963647753/1482285732', 'profile_link_color': '1DA1F2', 'profile_sidebar_border_color': 'C0DEED', 'profile_sidebar_fill_color': 'DDEEF6', 'profile_text_color': '333333', 'profile_use_background_image': True, 'has_extended_profile': False, 'default_profile': True, 'default_profile_image': False, 'following': False, 'follow_request_sent': False, 'notifications': False, 'translator_type': 'none'}, id=2963647753, id_str='2963647753', name='Coronavirus', screen_name='VikkkyHahaha', location='', description='', url=None, entities={'description': {'urls': []}}, protected=False, followers_count=1, friends_count=222, listed_count=0, created_at=datetime.datetime(2015, 1, 7, 18, 2, 49), favourites_count=1696, utc_offset=None, time_zone=None, geo_enabled=False, verified=False, statuses_count=2223, lang=None, contributors_enabled=False, is_translator=False, is_translation_enabled=False, profile_background_color='C0DEED', profile_background_image_url='http://abs.twimg.com/images/themes/theme1/bg.png', profile_background_image_url_https='https://abs.twimg.com/images/themes/theme1/bg.png', profile_background_tile=False, profile_image_url='http://pbs.twimg.com/profile_images/1016897096530554880/gJTQyo0t_normal.jpg', profile_image_url_https='https://pbs.twimg.com/profile_images/1016897096530554880/gJTQyo0t_normal.jpg', profile_banner_url='https://pbs.twimg.com/profile_banners/2963647753/1482285732', profile_link_color='1DA1F2', profile_sidebar_border_color='C0DEED', profile_sidebar_fill_color='DDEEF6', profile_text_color='333333', profile_use_background_image=True, has_extended_profile=False, default_profile=True, default_profile_image=False, following=False, follow_request_sent=False, notifications=False, translator_type='none'), user=User(_api=<tweepy.api.API object at 0x0000000008882888>, _json={'id': 2963647753, 'id_str': '2963647753', 'name': 'Coronavirus', 'screen_name': 'VikkkyHahaha', 'location': '', 'description': '', 'url': None, 'entities': {'description': {'urls': []}}, 'protected': False, 'followers_count': 1, 'friends_count': 222, 'listed_count': 0, 'created_at': 'Wed Jan 07 18:02:49 +0000 2015', 'favourites_count': 1696, 'utc_offset': None, 'time_zone': None, 'geo_enabled': False, 'verified': False, 'statuses_count': 2223, 'lang': None, 'contributors_enabled': False, 'is_translator': False, 'is_translation_enabled': False, 'profile_background_color': 'C0DEED', 'profile_background_image_url': 'http://abs.twimg.com/images/themes/theme1/bg.png', 'profile_background_image_url_https': 'https://abs.twimg.com/images/themes/theme1/bg.png', 'profile_background_tile': False, 'profile_image_url': 'http://pbs.twimg.com/profile_images/1016897096530554880/gJTQyo0t_normal.jpg', 'profile_image_url_https': 'https://pbs.twimg.com/profile_images/1016897096530554880/gJTQyo0t_normal.jpg', 'profile_banner_url': 'https://pbs.twimg.com/profile_banners/2963647753/1482285732', 'profile_link_color': '1DA1F2', 'profile_sidebar_border_color': 'C0DEED', 'profile_sidebar_fill_color': 'DDEEF6', 'profile_text_color': '333333', 'profile_use_background_image': True, 'has_extended_profile': False, 'default_profile': True, 'default_profile_image': False, 'following': False, 'follow_request_sent': False, 'notifications': False, 'translator_type': 'none'}, id=2963647753, id_str='2963647753', name='Coronavirus', screen_name='VikkkyHahaha', location='', description='', url=None, entities={'description': {'urls': []}}, protected=False, followers_count=1, friends_count=222, listed_count=0, created_at=datetime.datetime(2015, 1, 7, 18, 2, 49), favourites_count=1696, utc_offset=None, time_zone=None, geo_enabled=False, verified=False, statuses_count=2223, lang=None, contributors_enabled=False, is_translator=False, is_translation_enabled=False, profile_background_color='C0DEED', profile_background_image_url='http://abs.twimg.com/images/themes/theme1/bg.png', profile_background_image_url_https='https://abs.twimg.com/images/themes/theme1/bg.png', profile_background_tile=False, profile_image_url='http://pbs.twimg.com/profile_images/1016897096530554880/gJTQyo0t_normal.jpg', profile_image_url_https='https://pbs.twimg.com/profile_images/1016897096530554880/gJTQyo0t_normal.jpg', profile_banner_url='https://pbs.twimg.com/profile_banners/2963647753/1482285732', profile_link_color='1DA1F2', profile_sidebar_border_color='C0DEED', profile_sidebar_fill_color='DDEEF6', profile_text_color='333333', profile_use_background_image=True, has_extended_profile=False, default_profile=True, default_profile_image=False, following=False, follow_request_sent=False, notifications=False, translator_type='none'), geo=None, coordinates=None, place=None, contributors=None, is_quote_status=False, retweet_count=0, favorite_count=0, favorited=False, retweeted=False, lang='en') \n",
      "\n",
      "----------------------------------------------\n",
      "\n",
      "Status(_api=<tweepy.api.API object at 0x0000000008882888>, _json={'created_at': 'Sat Oct 31 18:51:28 +0000 2020', 'id': 1322612168655736832, 'id_str': '1322612168655736832', 'full_text': '@RCBTweets Im fan of #RCB, fr m victory s nt winning IPL cup. Fr me victry s seeing 2 legends of my Era @imVkohli   @ABdeVilliers17  playing fr #RCB. No one can competate thm wn thy r playing fr thr country. Aftr many years v remember tht Legends of our tim wr in my team. Tht s victry fr me', 'truncated': False, 'display_text_range': [11, 291], 'entities': {'hashtags': [{'text': 'RCB', 'indices': [21, 25]}, {'text': 'RCB', 'indices': [144, 148]}], 'symbols': [], 'user_mentions': [{'screen_name': 'RCBTweets', 'name': 'Royal Challengers Bangalore', 'id': 70931004, 'id_str': '70931004', 'indices': [0, 10]}, {'screen_name': 'imVkohli', 'name': 'Virat Kohli', 'id': 71201743, 'id_str': '71201743', 'indices': [104, 113]}, {'screen_name': 'ABdeVilliers17', 'name': 'AB de Villiers', 'id': 139876086, 'id_str': '139876086', 'indices': [116, 131]}], 'urls': []}, 'metadata': {'iso_language_code': 'en', 'result_type': 'recent'}, 'source': '<a href=\"http://twitter.com/download/android\" rel=\"nofollow\">Twitter for Android</a>', 'in_reply_to_status_id': 1322607408565215232, 'in_reply_to_status_id_str': '1322607408565215232', 'in_reply_to_user_id': 70931004, 'in_reply_to_user_id_str': '70931004', 'in_reply_to_screen_name': 'RCBTweets', 'user': {'id': 578114019, 'id_str': '578114019', 'name': 'AVINASH', 'screen_name': 'ImAvinashHulsur', 'location': 'GULBARGA', 'description': 'im avi-hulsur', 'url': None, 'entities': {'description': {'urls': []}}, 'protected': False, 'followers_count': 1, 'friends_count': 30, 'listed_count': 0, 'created_at': 'Sat May 12 12:56:49 +0000 2012', 'favourites_count': 185, 'utc_offset': None, 'time_zone': None, 'geo_enabled': False, 'verified': False, 'statuses_count': 84, 'lang': None, 'contributors_enabled': False, 'is_translator': False, 'is_translation_enabled': False, 'profile_background_color': 'C0DEED', 'profile_background_image_url': 'http://abs.twimg.com/images/themes/theme1/bg.png', 'profile_background_image_url_https': 'https://abs.twimg.com/images/themes/theme1/bg.png', 'profile_background_tile': False, 'profile_image_url': 'http://pbs.twimg.com/profile_images/1319208976937046016/Q6936s3Y_normal.jpg', 'profile_image_url_https': 'https://pbs.twimg.com/profile_images/1319208976937046016/Q6936s3Y_normal.jpg', 'profile_link_color': '1DA1F2', 'profile_sidebar_border_color': 'C0DEED', 'profile_sidebar_fill_color': 'DDEEF6', 'profile_text_color': '333333', 'profile_use_background_image': True, 'has_extended_profile': True, 'default_profile': True, 'default_profile_image': False, 'following': False, 'follow_request_sent': False, 'notifications': False, 'translator_type': 'none'}, 'geo': None, 'coordinates': None, 'place': None, 'contributors': None, 'is_quote_status': False, 'retweet_count': 0, 'favorite_count': 3, 'favorited': False, 'retweeted': False, 'lang': 'en'}, created_at=datetime.datetime(2020, 10, 31, 18, 51, 28), id=1322612168655736832, id_str='1322612168655736832', full_text='@RCBTweets Im fan of #RCB, fr m victory s nt winning IPL cup. Fr me victry s seeing 2 legends of my Era @imVkohli   @ABdeVilliers17  playing fr #RCB. No one can competate thm wn thy r playing fr thr country. Aftr many years v remember tht Legends of our tim wr in my team. Tht s victry fr me', truncated=False, display_text_range=[11, 291], entities={'hashtags': [{'text': 'RCB', 'indices': [21, 25]}, {'text': 'RCB', 'indices': [144, 148]}], 'symbols': [], 'user_mentions': [{'screen_name': 'RCBTweets', 'name': 'Royal Challengers Bangalore', 'id': 70931004, 'id_str': '70931004', 'indices': [0, 10]}, {'screen_name': 'imVkohli', 'name': 'Virat Kohli', 'id': 71201743, 'id_str': '71201743', 'indices': [104, 113]}, {'screen_name': 'ABdeVilliers17', 'name': 'AB de Villiers', 'id': 139876086, 'id_str': '139876086', 'indices': [116, 131]}], 'urls': []}, metadata={'iso_language_code': 'en', 'result_type': 'recent'}, source='Twitter for Android', source_url='http://twitter.com/download/android', in_reply_to_status_id=1322607408565215232, in_reply_to_status_id_str='1322607408565215232', in_reply_to_user_id=70931004, in_reply_to_user_id_str='70931004', in_reply_to_screen_name='RCBTweets', author=User(_api=<tweepy.api.API object at 0x0000000008882888>, _json={'id': 578114019, 'id_str': '578114019', 'name': 'AVINASH', 'screen_name': 'ImAvinashHulsur', 'location': 'GULBARGA', 'description': 'im avi-hulsur', 'url': None, 'entities': {'description': {'urls': []}}, 'protected': False, 'followers_count': 1, 'friends_count': 30, 'listed_count': 0, 'created_at': 'Sat May 12 12:56:49 +0000 2012', 'favourites_count': 185, 'utc_offset': None, 'time_zone': None, 'geo_enabled': False, 'verified': False, 'statuses_count': 84, 'lang': None, 'contributors_enabled': False, 'is_translator': False, 'is_translation_enabled': False, 'profile_background_color': 'C0DEED', 'profile_background_image_url': 'http://abs.twimg.com/images/themes/theme1/bg.png', 'profile_background_image_url_https': 'https://abs.twimg.com/images/themes/theme1/bg.png', 'profile_background_tile': False, 'profile_image_url': 'http://pbs.twimg.com/profile_images/1319208976937046016/Q6936s3Y_normal.jpg', 'profile_image_url_https': 'https://pbs.twimg.com/profile_images/1319208976937046016/Q6936s3Y_normal.jpg', 'profile_link_color': '1DA1F2', 'profile_sidebar_border_color': 'C0DEED', 'profile_sidebar_fill_color': 'DDEEF6', 'profile_text_color': '333333', 'profile_use_background_image': True, 'has_extended_profile': True, 'default_profile': True, 'default_profile_image': False, 'following': False, 'follow_request_sent': False, 'notifications': False, 'translator_type': 'none'}, id=578114019, id_str='578114019', name='AVINASH', screen_name='ImAvinashHulsur', location='GULBARGA', description='im avi-hulsur', url=None, entities={'description': {'urls': []}}, protected=False, followers_count=1, friends_count=30, listed_count=0, created_at=datetime.datetime(2012, 5, 12, 12, 56, 49), favourites_count=185, utc_offset=None, time_zone=None, geo_enabled=False, verified=False, statuses_count=84, lang=None, contributors_enabled=False, is_translator=False, is_translation_enabled=False, profile_background_color='C0DEED', profile_background_image_url='http://abs.twimg.com/images/themes/theme1/bg.png', profile_background_image_url_https='https://abs.twimg.com/images/themes/theme1/bg.png', profile_background_tile=False, profile_image_url='http://pbs.twimg.com/profile_images/1319208976937046016/Q6936s3Y_normal.jpg', profile_image_url_https='https://pbs.twimg.com/profile_images/1319208976937046016/Q6936s3Y_normal.jpg', profile_link_color='1DA1F2', profile_sidebar_border_color='C0DEED', profile_sidebar_fill_color='DDEEF6', profile_text_color='333333', profile_use_background_image=True, has_extended_profile=True, default_profile=True, default_profile_image=False, following=False, follow_request_sent=False, notifications=False, translator_type='none'), user=User(_api=<tweepy.api.API object at 0x0000000008882888>, _json={'id': 578114019, 'id_str': '578114019', 'name': 'AVINASH', 'screen_name': 'ImAvinashHulsur', 'location': 'GULBARGA', 'description': 'im avi-hulsur', 'url': None, 'entities': {'description': {'urls': []}}, 'protected': False, 'followers_count': 1, 'friends_count': 30, 'listed_count': 0, 'created_at': 'Sat May 12 12:56:49 +0000 2012', 'favourites_count': 185, 'utc_offset': None, 'time_zone': None, 'geo_enabled': False, 'verified': False, 'statuses_count': 84, 'lang': None, 'contributors_enabled': False, 'is_translator': False, 'is_translation_enabled': False, 'profile_background_color': 'C0DEED', 'profile_background_image_url': 'http://abs.twimg.com/images/themes/theme1/bg.png', 'profile_background_image_url_https': 'https://abs.twimg.com/images/themes/theme1/bg.png', 'profile_background_tile': False, 'profile_image_url': 'http://pbs.twimg.com/profile_images/1319208976937046016/Q6936s3Y_normal.jpg', 'profile_image_url_https': 'https://pbs.twimg.com/profile_images/1319208976937046016/Q6936s3Y_normal.jpg', 'profile_link_color': '1DA1F2', 'profile_sidebar_border_color': 'C0DEED', 'profile_sidebar_fill_color': 'DDEEF6', 'profile_text_color': '333333', 'profile_use_background_image': True, 'has_extended_profile': True, 'default_profile': True, 'default_profile_image': False, 'following': False, 'follow_request_sent': False, 'notifications': False, 'translator_type': 'none'}, id=578114019, id_str='578114019', name='AVINASH', screen_name='ImAvinashHulsur', location='GULBARGA', description='im avi-hulsur', url=None, entities={'description': {'urls': []}}, protected=False, followers_count=1, friends_count=30, listed_count=0, created_at=datetime.datetime(2012, 5, 12, 12, 56, 49), favourites_count=185, utc_offset=None, time_zone=None, geo_enabled=False, verified=False, statuses_count=84, lang=None, contributors_enabled=False, is_translator=False, is_translation_enabled=False, profile_background_color='C0DEED', profile_background_image_url='http://abs.twimg.com/images/themes/theme1/bg.png', profile_background_image_url_https='https://abs.twimg.com/images/themes/theme1/bg.png', profile_background_tile=False, profile_image_url='http://pbs.twimg.com/profile_images/1319208976937046016/Q6936s3Y_normal.jpg', profile_image_url_https='https://pbs.twimg.com/profile_images/1319208976937046016/Q6936s3Y_normal.jpg', profile_link_color='1DA1F2', profile_sidebar_border_color='C0DEED', profile_sidebar_fill_color='DDEEF6', profile_text_color='333333', profile_use_background_image=True, has_extended_profile=True, default_profile=True, default_profile_image=False, following=False, follow_request_sent=False, notifications=False, translator_type='none'), geo=None, coordinates=None, place=None, contributors=None, is_quote_status=False, retweet_count=0, favorite_count=3, favorited=False, retweeted=False, lang='en') \n",
      "\n",
      "----------------------------------------------\n",
      "\n",
      "Status(_api=<tweepy.api.API object at 0x0000000008882888>, _json={'created_at': 'Sat Oct 31 18:44:35 +0000 2020', 'id': 1322610435338563585, 'id_str': '1322610435338563585', 'full_text': \"My cousin gave 'for sure' and 'fixed' phrases for IPL and predicted the winning team as either DC or RCB, while we were discussing IPL last Sunday. \\nBut now it looks like only one is gonna enter the playoffs. Let's see, how well his forecast goes.\\n#IPL2020 https://t.co/IM2TInXIWS\", 'truncated': False, 'display_text_range': [0, 256], 'entities': {'hashtags': [{'text': 'IPL2020', 'indices': [248, 256]}], 'symbols': [], 'user_mentions': [], 'urls': [{'url': 'https://t.co/IM2TInXIWS', 'expanded_url': 'https://twitter.com/bhogleharsha/status/1322589259426136066', 'display_url': 'twitter.com/bhogleharsha/s…', 'indices': [257, 280]}]}, 'metadata': {'iso_language_code': 'en', 'result_type': 'recent'}, 'source': '<a href=\"http://twitter.com/download/android\" rel=\"nofollow\">Twitter for Android</a>', 'in_reply_to_status_id': None, 'in_reply_to_status_id_str': None, 'in_reply_to_user_id': None, 'in_reply_to_user_id_str': None, 'in_reply_to_screen_name': None, 'user': {'id': 1084506876895682560, 'id_str': '1084506876895682560', 'name': 'Shubhanshi Dixit', 'screen_name': 'shubhu_dxt', 'location': '', 'description': 'Doctor in Making || Georgian || Keeping my head up, heels high and pun game strong.', 'url': None, 'entities': {'description': {'urls': []}}, 'protected': False, 'followers_count': 93, 'friends_count': 157, 'listed_count': 0, 'created_at': 'Sun Jan 13 17:46:03 +0000 2019', 'favourites_count': 8607, 'utc_offset': None, 'time_zone': None, 'geo_enabled': True, 'verified': False, 'statuses_count': 493, 'lang': None, 'contributors_enabled': False, 'is_translator': False, 'is_translation_enabled': False, 'profile_background_color': 'F5F8FA', 'profile_background_image_url': None, 'profile_background_image_url_https': None, 'profile_background_tile': False, 'profile_image_url': 'http://pbs.twimg.com/profile_images/1320226708817993730/NiyfmsEK_normal.jpg', 'profile_image_url_https': 'https://pbs.twimg.com/profile_images/1320226708817993730/NiyfmsEK_normal.jpg', 'profile_link_color': '1DA1F2', 'profile_sidebar_border_color': 'C0DEED', 'profile_sidebar_fill_color': 'DDEEF6', 'profile_text_color': '333333', 'profile_use_background_image': True, 'has_extended_profile': False, 'default_profile': True, 'default_profile_image': False, 'following': False, 'follow_request_sent': False, 'notifications': False, 'translator_type': 'none'}, 'geo': None, 'coordinates': None, 'place': None, 'contributors': None, 'is_quote_status': True, 'quoted_status_id': 1322589259426136066, 'quoted_status_id_str': '1322589259426136066', 'quoted_status': {'created_at': 'Sat Oct 31 17:20:26 +0000 2020', 'id': 1322589259426136066, 'id_str': '1322589259426136066', 'full_text': 'Brilliant from Jason Holder. So  #MI will definitely finish at No 1, either #DC or #RCB will go through with 16 and two teams will qualify with 14 points. Wide open. What a climax to the #Dream11IPL.', 'truncated': False, 'display_text_range': [0, 199], 'entities': {'hashtags': [{'text': 'MI', 'indices': [33, 36]}, {'text': 'DC', 'indices': [76, 79]}, {'text': 'RCB', 'indices': [83, 87]}, {'text': 'Dream11IPL', 'indices': [187, 198]}], 'symbols': [], 'user_mentions': [], 'urls': []}, 'metadata': {'iso_language_code': 'en', 'result_type': 'recent'}, 'source': '<a href=\"http://twitter.com/download/android\" rel=\"nofollow\">Twitter for Android</a>', 'in_reply_to_status_id': None, 'in_reply_to_status_id_str': None, 'in_reply_to_user_id': None, 'in_reply_to_user_id_str': None, 'in_reply_to_screen_name': None, 'user': {'id': 78941611, 'id_str': '78941611', 'name': 'Harsha Bhogle', 'screen_name': 'bhogleharsha', 'location': 'Mumbai, India', 'description': 'Blessed. Enjoy till it lasts. \\nhttps://t.co/SY1rTB6XA4', 'url': None, 'entities': {'description': {'urls': [{'url': 'https://t.co/SY1rTB6XA4', 'expanded_url': 'http://www.harshabhogle.com', 'display_url': 'harshabhogle.com', 'indices': [31, 54]}]}}, 'protected': False, 'followers_count': 8274150, 'friends_count': 169, 'listed_count': 5791, 'created_at': 'Thu Oct 01 16:18:03 +0000 2009', 'favourites_count': 12, 'utc_offset': None, 'time_zone': None, 'geo_enabled': False, 'verified': True, 'statuses_count': 58395, 'lang': None, 'contributors_enabled': False, 'is_translator': False, 'is_translation_enabled': False, 'profile_background_color': 'C0DEED', 'profile_background_image_url': 'http://abs.twimg.com/images/themes/theme1/bg.png', 'profile_background_image_url_https': 'https://abs.twimg.com/images/themes/theme1/bg.png', 'profile_background_tile': False, 'profile_image_url': 'http://pbs.twimg.com/profile_images/1150249707341377536/zd15Lf-c_normal.jpg', 'profile_image_url_https': 'https://pbs.twimg.com/profile_images/1150249707341377536/zd15Lf-c_normal.jpg', 'profile_link_color': '1DA1F2', 'profile_sidebar_border_color': 'C0DEED', 'profile_sidebar_fill_color': 'DDEEF6', 'profile_text_color': '333333', 'profile_use_background_image': True, 'has_extended_profile': False, 'default_profile': True, 'default_profile_image': False, 'following': False, 'follow_request_sent': False, 'notifications': False, 'translator_type': 'none'}, 'geo': None, 'coordinates': None, 'place': None, 'contributors': None, 'is_quote_status': False, 'retweet_count': 494, 'favorite_count': 16205, 'favorited': False, 'retweeted': False, 'lang': 'en'}, 'retweet_count': 0, 'favorite_count': 3, 'favorited': False, 'retweeted': False, 'possibly_sensitive': False, 'lang': 'en'}, created_at=datetime.datetime(2020, 10, 31, 18, 44, 35), id=1322610435338563585, id_str='1322610435338563585', full_text=\"My cousin gave 'for sure' and 'fixed' phrases for IPL and predicted the winning team as either DC or RCB, while we were discussing IPL last Sunday. \\nBut now it looks like only one is gonna enter the playoffs. Let's see, how well his forecast goes.\\n#IPL2020 https://t.co/IM2TInXIWS\", truncated=False, display_text_range=[0, 256], entities={'hashtags': [{'text': 'IPL2020', 'indices': [248, 256]}], 'symbols': [], 'user_mentions': [], 'urls': [{'url': 'https://t.co/IM2TInXIWS', 'expanded_url': 'https://twitter.com/bhogleharsha/status/1322589259426136066', 'display_url': 'twitter.com/bhogleharsha/s…', 'indices': [257, 280]}]}, metadata={'iso_language_code': 'en', 'result_type': 'recent'}, source='Twitter for Android', source_url='http://twitter.com/download/android', in_reply_to_status_id=None, in_reply_to_status_id_str=None, in_reply_to_user_id=None, in_reply_to_user_id_str=None, in_reply_to_screen_name=None, author=User(_api=<tweepy.api.API object at 0x0000000008882888>, _json={'id': 1084506876895682560, 'id_str': '1084506876895682560', 'name': 'Shubhanshi Dixit', 'screen_name': 'shubhu_dxt', 'location': '', 'description': 'Doctor in Making || Georgian || Keeping my head up, heels high and pun game strong.', 'url': None, 'entities': {'description': {'urls': []}}, 'protected': False, 'followers_count': 93, 'friends_count': 157, 'listed_count': 0, 'created_at': 'Sun Jan 13 17:46:03 +0000 2019', 'favourites_count': 8607, 'utc_offset': None, 'time_zone': None, 'geo_enabled': True, 'verified': False, 'statuses_count': 493, 'lang': None, 'contributors_enabled': False, 'is_translator': False, 'is_translation_enabled': False, 'profile_background_color': 'F5F8FA', 'profile_background_image_url': None, 'profile_background_image_url_https': None, 'profile_background_tile': False, 'profile_image_url': 'http://pbs.twimg.com/profile_images/1320226708817993730/NiyfmsEK_normal.jpg', 'profile_image_url_https': 'https://pbs.twimg.com/profile_images/1320226708817993730/NiyfmsEK_normal.jpg', 'profile_link_color': '1DA1F2', 'profile_sidebar_border_color': 'C0DEED', 'profile_sidebar_fill_color': 'DDEEF6', 'profile_text_color': '333333', 'profile_use_background_image': True, 'has_extended_profile': False, 'default_profile': True, 'default_profile_image': False, 'following': False, 'follow_request_sent': False, 'notifications': False, 'translator_type': 'none'}, id=1084506876895682560, id_str='1084506876895682560', name='Shubhanshi Dixit', screen_name='shubhu_dxt', location='', description='Doctor in Making || Georgian || Keeping my head up, heels high and pun game strong.', url=None, entities={'description': {'urls': []}}, protected=False, followers_count=93, friends_count=157, listed_count=0, created_at=datetime.datetime(2019, 1, 13, 17, 46, 3), favourites_count=8607, utc_offset=None, time_zone=None, geo_enabled=True, verified=False, statuses_count=493, lang=None, contributors_enabled=False, is_translator=False, is_translation_enabled=False, profile_background_color='F5F8FA', profile_background_image_url=None, profile_background_image_url_https=None, profile_background_tile=False, profile_image_url='http://pbs.twimg.com/profile_images/1320226708817993730/NiyfmsEK_normal.jpg', profile_image_url_https='https://pbs.twimg.com/profile_images/1320226708817993730/NiyfmsEK_normal.jpg', profile_link_color='1DA1F2', profile_sidebar_border_color='C0DEED', profile_sidebar_fill_color='DDEEF6', profile_text_color='333333', profile_use_background_image=True, has_extended_profile=False, default_profile=True, default_profile_image=False, following=False, follow_request_sent=False, notifications=False, translator_type='none'), user=User(_api=<tweepy.api.API object at 0x0000000008882888>, _json={'id': 1084506876895682560, 'id_str': '1084506876895682560', 'name': 'Shubhanshi Dixit', 'screen_name': 'shubhu_dxt', 'location': '', 'description': 'Doctor in Making || Georgian || Keeping my head up, heels high and pun game strong.', 'url': None, 'entities': {'description': {'urls': []}}, 'protected': False, 'followers_count': 93, 'friends_count': 157, 'listed_count': 0, 'created_at': 'Sun Jan 13 17:46:03 +0000 2019', 'favourites_count': 8607, 'utc_offset': None, 'time_zone': None, 'geo_enabled': True, 'verified': False, 'statuses_count': 493, 'lang': None, 'contributors_enabled': False, 'is_translator': False, 'is_translation_enabled': False, 'profile_background_color': 'F5F8FA', 'profile_background_image_url': None, 'profile_background_image_url_https': None, 'profile_background_tile': False, 'profile_image_url': 'http://pbs.twimg.com/profile_images/1320226708817993730/NiyfmsEK_normal.jpg', 'profile_image_url_https': 'https://pbs.twimg.com/profile_images/1320226708817993730/NiyfmsEK_normal.jpg', 'profile_link_color': '1DA1F2', 'profile_sidebar_border_color': 'C0DEED', 'profile_sidebar_fill_color': 'DDEEF6', 'profile_text_color': '333333', 'profile_use_background_image': True, 'has_extended_profile': False, 'default_profile': True, 'default_profile_image': False, 'following': False, 'follow_request_sent': False, 'notifications': False, 'translator_type': 'none'}, id=1084506876895682560, id_str='1084506876895682560', name='Shubhanshi Dixit', screen_name='shubhu_dxt', location='', description='Doctor in Making || Georgian || Keeping my head up, heels high and pun game strong.', url=None, entities={'description': {'urls': []}}, protected=False, followers_count=93, friends_count=157, listed_count=0, created_at=datetime.datetime(2019, 1, 13, 17, 46, 3), favourites_count=8607, utc_offset=None, time_zone=None, geo_enabled=True, verified=False, statuses_count=493, lang=None, contributors_enabled=False, is_translator=False, is_translation_enabled=False, profile_background_color='F5F8FA', profile_background_image_url=None, profile_background_image_url_https=None, profile_background_tile=False, profile_image_url='http://pbs.twimg.com/profile_images/1320226708817993730/NiyfmsEK_normal.jpg', profile_image_url_https='https://pbs.twimg.com/profile_images/1320226708817993730/NiyfmsEK_normal.jpg', profile_link_color='1DA1F2', profile_sidebar_border_color='C0DEED', profile_sidebar_fill_color='DDEEF6', profile_text_color='333333', profile_use_background_image=True, has_extended_profile=False, default_profile=True, default_profile_image=False, following=False, follow_request_sent=False, notifications=False, translator_type='none'), geo=None, coordinates=None, place=None, contributors=None, is_quote_status=True, quoted_status_id=1322589259426136066, quoted_status_id_str='1322589259426136066', quoted_status=Status(_api=<tweepy.api.API object at 0x0000000008882888>, _json={'created_at': 'Sat Oct 31 17:20:26 +0000 2020', 'id': 1322589259426136066, 'id_str': '1322589259426136066', 'full_text': 'Brilliant from Jason Holder. So  #MI will definitely finish at No 1, either #DC or #RCB will go through with 16 and two teams will qualify with 14 points. Wide open. What a climax to the #Dream11IPL.', 'truncated': False, 'display_text_range': [0, 199], 'entities': {'hashtags': [{'text': 'MI', 'indices': [33, 36]}, {'text': 'DC', 'indices': [76, 79]}, {'text': 'RCB', 'indices': [83, 87]}, {'text': 'Dream11IPL', 'indices': [187, 198]}], 'symbols': [], 'user_mentions': [], 'urls': []}, 'metadata': {'iso_language_code': 'en', 'result_type': 'recent'}, 'source': '<a href=\"http://twitter.com/download/android\" rel=\"nofollow\">Twitter for Android</a>', 'in_reply_to_status_id': None, 'in_reply_to_status_id_str': None, 'in_reply_to_user_id': None, 'in_reply_to_user_id_str': None, 'in_reply_to_screen_name': None, 'user': {'id': 78941611, 'id_str': '78941611', 'name': 'Harsha Bhogle', 'screen_name': 'bhogleharsha', 'location': 'Mumbai, India', 'description': 'Blessed. Enjoy till it lasts. \\nhttps://t.co/SY1rTB6XA4', 'url': None, 'entities': {'description': {'urls': [{'url': 'https://t.co/SY1rTB6XA4', 'expanded_url': 'http://www.harshabhogle.com', 'display_url': 'harshabhogle.com', 'indices': [31, 54]}]}}, 'protected': False, 'followers_count': 8274150, 'friends_count': 169, 'listed_count': 5791, 'created_at': 'Thu Oct 01 16:18:03 +0000 2009', 'favourites_count': 12, 'utc_offset': None, 'time_zone': None, 'geo_enabled': False, 'verified': True, 'statuses_count': 58395, 'lang': None, 'contributors_enabled': False, 'is_translator': False, 'is_translation_enabled': False, 'profile_background_color': 'C0DEED', 'profile_background_image_url': 'http://abs.twimg.com/images/themes/theme1/bg.png', 'profile_background_image_url_https': 'https://abs.twimg.com/images/themes/theme1/bg.png', 'profile_background_tile': False, 'profile_image_url': 'http://pbs.twimg.com/profile_images/1150249707341377536/zd15Lf-c_normal.jpg', 'profile_image_url_https': 'https://pbs.twimg.com/profile_images/1150249707341377536/zd15Lf-c_normal.jpg', 'profile_link_color': '1DA1F2', 'profile_sidebar_border_color': 'C0DEED', 'profile_sidebar_fill_color': 'DDEEF6', 'profile_text_color': '333333', 'profile_use_background_image': True, 'has_extended_profile': False, 'default_profile': True, 'default_profile_image': False, 'following': False, 'follow_request_sent': False, 'notifications': False, 'translator_type': 'none'}, 'geo': None, 'coordinates': None, 'place': None, 'contributors': None, 'is_quote_status': False, 'retweet_count': 494, 'favorite_count': 16205, 'favorited': False, 'retweeted': False, 'lang': 'en'}, created_at=datetime.datetime(2020, 10, 31, 17, 20, 26), id=1322589259426136066, id_str='1322589259426136066', full_text='Brilliant from Jason Holder. So  #MI will definitely finish at No 1, either #DC or #RCB will go through with 16 and two teams will qualify with 14 points. Wide open. What a climax to the #Dream11IPL.', truncated=False, display_text_range=[0, 199], entities={'hashtags': [{'text': 'MI', 'indices': [33, 36]}, {'text': 'DC', 'indices': [76, 79]}, {'text': 'RCB', 'indices': [83, 87]}, {'text': 'Dream11IPL', 'indices': [187, 198]}], 'symbols': [], 'user_mentions': [], 'urls': []}, metadata={'iso_language_code': 'en', 'result_type': 'recent'}, source='Twitter for Android', source_url='http://twitter.com/download/android', in_reply_to_status_id=None, in_reply_to_status_id_str=None, in_reply_to_user_id=None, in_reply_to_user_id_str=None, in_reply_to_screen_name=None, author=User(_api=<tweepy.api.API object at 0x0000000008882888>, _json={'id': 78941611, 'id_str': '78941611', 'name': 'Harsha Bhogle', 'screen_name': 'bhogleharsha', 'location': 'Mumbai, India', 'description': 'Blessed. Enjoy till it lasts. \\nhttps://t.co/SY1rTB6XA4', 'url': None, 'entities': {'description': {'urls': [{'url': 'https://t.co/SY1rTB6XA4', 'expanded_url': 'http://www.harshabhogle.com', 'display_url': 'harshabhogle.com', 'indices': [31, 54]}]}}, 'protected': False, 'followers_count': 8274150, 'friends_count': 169, 'listed_count': 5791, 'created_at': 'Thu Oct 01 16:18:03 +0000 2009', 'favourites_count': 12, 'utc_offset': None, 'time_zone': None, 'geo_enabled': False, 'verified': True, 'statuses_count': 58395, 'lang': None, 'contributors_enabled': False, 'is_translator': False, 'is_translation_enabled': False, 'profile_background_color': 'C0DEED', 'profile_background_image_url': 'http://abs.twimg.com/images/themes/theme1/bg.png', 'profile_background_image_url_https': 'https://abs.twimg.com/images/themes/theme1/bg.png', 'profile_background_tile': False, 'profile_image_url': 'http://pbs.twimg.com/profile_images/1150249707341377536/zd15Lf-c_normal.jpg', 'profile_image_url_https': 'https://pbs.twimg.com/profile_images/1150249707341377536/zd15Lf-c_normal.jpg', 'profile_link_color': '1DA1F2', 'profile_sidebar_border_color': 'C0DEED', 'profile_sidebar_fill_color': 'DDEEF6', 'profile_text_color': '333333', 'profile_use_background_image': True, 'has_extended_profile': False, 'default_profile': True, 'default_profile_image': False, 'following': False, 'follow_request_sent': False, 'notifications': False, 'translator_type': 'none'}, id=78941611, id_str='78941611', name='Harsha Bhogle', screen_name='bhogleharsha', location='Mumbai, India', description='Blessed. Enjoy till it lasts. \\nhttps://t.co/SY1rTB6XA4', url=None, entities={'description': {'urls': [{'url': 'https://t.co/SY1rTB6XA4', 'expanded_url': 'http://www.harshabhogle.com', 'display_url': 'harshabhogle.com', 'indices': [31, 54]}]}}, protected=False, followers_count=8274150, friends_count=169, listed_count=5791, created_at=datetime.datetime(2009, 10, 1, 16, 18, 3), favourites_count=12, utc_offset=None, time_zone=None, geo_enabled=False, verified=True, statuses_count=58395, lang=None, contributors_enabled=False, is_translator=False, is_translation_enabled=False, profile_background_color='C0DEED', profile_background_image_url='http://abs.twimg.com/images/themes/theme1/bg.png', profile_background_image_url_https='https://abs.twimg.com/images/themes/theme1/bg.png', profile_background_tile=False, profile_image_url='http://pbs.twimg.com/profile_images/1150249707341377536/zd15Lf-c_normal.jpg', profile_image_url_https='https://pbs.twimg.com/profile_images/1150249707341377536/zd15Lf-c_normal.jpg', profile_link_color='1DA1F2', profile_sidebar_border_color='C0DEED', profile_sidebar_fill_color='DDEEF6', profile_text_color='333333', profile_use_background_image=True, has_extended_profile=False, default_profile=True, default_profile_image=False, following=False, follow_request_sent=False, notifications=False, translator_type='none'), user=User(_api=<tweepy.api.API object at 0x0000000008882888>, _json={'id': 78941611, 'id_str': '78941611', 'name': 'Harsha Bhogle', 'screen_name': 'bhogleharsha', 'location': 'Mumbai, India', 'description': 'Blessed. Enjoy till it lasts. \\nhttps://t.co/SY1rTB6XA4', 'url': None, 'entities': {'description': {'urls': [{'url': 'https://t.co/SY1rTB6XA4', 'expanded_url': 'http://www.harshabhogle.com', 'display_url': 'harshabhogle.com', 'indices': [31, 54]}]}}, 'protected': False, 'followers_count': 8274150, 'friends_count': 169, 'listed_count': 5791, 'created_at': 'Thu Oct 01 16:18:03 +0000 2009', 'favourites_count': 12, 'utc_offset': None, 'time_zone': None, 'geo_enabled': False, 'verified': True, 'statuses_count': 58395, 'lang': None, 'contributors_enabled': False, 'is_translator': False, 'is_translation_enabled': False, 'profile_background_color': 'C0DEED', 'profile_background_image_url': 'http://abs.twimg.com/images/themes/theme1/bg.png', 'profile_background_image_url_https': 'https://abs.twimg.com/images/themes/theme1/bg.png', 'profile_background_tile': False, 'profile_image_url': 'http://pbs.twimg.com/profile_images/1150249707341377536/zd15Lf-c_normal.jpg', 'profile_image_url_https': 'https://pbs.twimg.com/profile_images/1150249707341377536/zd15Lf-c_normal.jpg', 'profile_link_color': '1DA1F2', 'profile_sidebar_border_color': 'C0DEED', 'profile_sidebar_fill_color': 'DDEEF6', 'profile_text_color': '333333', 'profile_use_background_image': True, 'has_extended_profile': False, 'default_profile': True, 'default_profile_image': False, 'following': False, 'follow_request_sent': False, 'notifications': False, 'translator_type': 'none'}, id=78941611, id_str='78941611', name='Harsha Bhogle', screen_name='bhogleharsha', location='Mumbai, India', description='Blessed. Enjoy till it lasts. \\nhttps://t.co/SY1rTB6XA4', url=None, entities={'description': {'urls': [{'url': 'https://t.co/SY1rTB6XA4', 'expanded_url': 'http://www.harshabhogle.com', 'display_url': 'harshabhogle.com', 'indices': [31, 54]}]}}, protected=False, followers_count=8274150, friends_count=169, listed_count=5791, created_at=datetime.datetime(2009, 10, 1, 16, 18, 3), favourites_count=12, utc_offset=None, time_zone=None, geo_enabled=False, verified=True, statuses_count=58395, lang=None, contributors_enabled=False, is_translator=False, is_translation_enabled=False, profile_background_color='C0DEED', profile_background_image_url='http://abs.twimg.com/images/themes/theme1/bg.png', profile_background_image_url_https='https://abs.twimg.com/images/themes/theme1/bg.png', profile_background_tile=False, profile_image_url='http://pbs.twimg.com/profile_images/1150249707341377536/zd15Lf-c_normal.jpg', profile_image_url_https='https://pbs.twimg.com/profile_images/1150249707341377536/zd15Lf-c_normal.jpg', profile_link_color='1DA1F2', profile_sidebar_border_color='C0DEED', profile_sidebar_fill_color='DDEEF6', profile_text_color='333333', profile_use_background_image=True, has_extended_profile=False, default_profile=True, default_profile_image=False, following=False, follow_request_sent=False, notifications=False, translator_type='none'), geo=None, coordinates=None, place=None, contributors=None, is_quote_status=False, retweet_count=494, favorite_count=16205, favorited=False, retweeted=False, lang='en'), retweet_count=0, favorite_count=3, favorited=False, retweeted=False, possibly_sensitive=False, lang='en') \n",
      "\n",
      "----------------------------------------------\n",
      "\n"
     ]
    }
   ],
   "source": [
    "Tweets=api.search(query,count=10,lang=\"en\",exclude=\"retweets\", tweet_mode=\"extended\")\n",
    "for Tweet in Tweets:\n",
    "    print(Tweet,\"\\n\")\n",
    "    print(\"----------------------------------------------\\n\")"
   ]
  },
  {
   "cell_type": "code",
   "execution_count": 9,
   "metadata": {},
   "outputs": [
    {
     "name": "stdout",
     "output_type": "stream",
     "text": [
      "Empty DataFrame\n",
      "Columns: [Tweets, User, User_statuses_count, user_followers, User_location, User_verified, fav_count, rt_count, tweet_date]\n",
      "Index: []\n"
     ]
    }
   ],
   "source": [
    "df = pd.DataFrame(columns = ['Tweets' , 'User' , 'User_statuses_count' , \n",
    "                            'user_followers' , 'User_location' , 'User_verified' ,\n",
    "                            'fav_count' , 'rt_count' , 'tweet_date'] )\n",
    "print(df)"
   ]
  },
  {
   "cell_type": "code",
   "execution_count": 10,
   "metadata": {},
   "outputs": [],
   "source": [
    "def stream(data, file_name):\n",
    "    i = 0\n",
    "    for tweet in tweepy.Cursor(api.search, q=data, count=100, lang='en').items():\n",
    "        print(i, end='\\r')\n",
    "        df.loc[i, 'Tweets'] = tweet.text\n",
    "        df.loc[i, 'User'] = tweet.user.name\n",
    "        df.loc[i, 'User_statuses_count'] = tweet.user.statuses_count\n",
    "        df.loc[i, 'user_followers'] = tweet.user.followers_count\n",
    "        df.loc[i, 'User_location'] = tweet.user.location\n",
    "        df.loc[i, 'User_verified'] = tweet.user.verified\n",
    "        df.loc[i, 'fav_count'] = tweet.favorite_count\n",
    "        df.loc[i, 'rt_count'] = tweet.retweet_count\n",
    "        df.loc[i, 'tweet_date'] = tweet.created_at\n",
    "        df.to_excel('{}.xlsx'.format(file_name))\n",
    "        i = i+1\n",
    "        if i == 1000:\n",
    "            break\n",
    "        else:\n",
    "            pass"
   ]
  },
  {
   "cell_type": "code",
   "execution_count": 11,
   "metadata": {},
   "outputs": [
    {
     "name": "stdout",
     "output_type": "stream",
     "text": [
      "898\r"
     ]
    }
   ],
   "source": [
    "stream(data=[\"RCB winning IPL\"] , file_name='my_tweets')"
   ]
  },
  {
   "cell_type": "code",
   "execution_count": 12,
   "metadata": {},
   "outputs": [
    {
     "data": {
      "text/html": [
       "<div>\n",
       "<style scoped>\n",
       "    .dataframe tbody tr th:only-of-type {\n",
       "        vertical-align: middle;\n",
       "    }\n",
       "\n",
       "    .dataframe tbody tr th {\n",
       "        vertical-align: top;\n",
       "    }\n",
       "\n",
       "    .dataframe thead th {\n",
       "        text-align: right;\n",
       "    }\n",
       "</style>\n",
       "<table border=\"1\" class=\"dataframe\">\n",
       "  <thead>\n",
       "    <tr style=\"text-align: right;\">\n",
       "      <th></th>\n",
       "      <th>Tweets</th>\n",
       "      <th>User</th>\n",
       "      <th>User_statuses_count</th>\n",
       "      <th>user_followers</th>\n",
       "      <th>User_location</th>\n",
       "      <th>User_verified</th>\n",
       "      <th>fav_count</th>\n",
       "      <th>rt_count</th>\n",
       "      <th>tweet_date</th>\n",
       "    </tr>\n",
       "  </thead>\n",
       "  <tbody>\n",
       "    <tr>\n",
       "      <th>0</th>\n",
       "      <td>RT @BrokenCricket: Last one week:\\n\\nMumbai Wi...</td>\n",
       "      <td>Mukilan Tamil</td>\n",
       "      <td>19678</td>\n",
       "      <td>145</td>\n",
       "      <td></td>\n",
       "      <td>False</td>\n",
       "      <td>0</td>\n",
       "      <td>200</td>\n",
       "      <td>2020-11-01 09:05:42</td>\n",
       "    </tr>\n",
       "    <tr>\n",
       "      <th>1</th>\n",
       "      <td>As much as I am excited, nervous and pumped up...</td>\n",
       "      <td>Kanav Bali🏏</td>\n",
       "      <td>1228</td>\n",
       "      <td>63</td>\n",
       "      <td>Chandigarh, India</td>\n",
       "      <td>False</td>\n",
       "      <td>0</td>\n",
       "      <td>0</td>\n",
       "      <td>2020-11-01 08:34:27</td>\n",
       "    </tr>\n",
       "    <tr>\n",
       "      <th>2</th>\n",
       "      <td>@ESPNcricinfo @DelhiCapitals still they will b...</td>\n",
       "      <td>Ra's Al Ghul</td>\n",
       "      <td>6428</td>\n",
       "      <td>67</td>\n",
       "      <td>India</td>\n",
       "      <td>False</td>\n",
       "      <td>0</td>\n",
       "      <td>0</td>\n",
       "      <td>2020-11-01 08:30:20</td>\n",
       "    </tr>\n",
       "    <tr>\n",
       "      <th>3</th>\n",
       "      <td>#Last one week:\\n\\nMumbai Winning\\nCSK winning...</td>\n",
       "      <td>IccCWCup2019</td>\n",
       "      <td>57224</td>\n",
       "      <td>772</td>\n",
       "      <td>India</td>\n",
       "      <td>False</td>\n",
       "      <td>0</td>\n",
       "      <td>0</td>\n",
       "      <td>2020-11-01 08:10:14</td>\n",
       "    </tr>\n",
       "    <tr>\n",
       "      <th>4</th>\n",
       "      <td>RT @being_prakx: He said \"I will gift Virat ip...</td>\n",
       "      <td>🇮🇳ViRaTiAN kAbÏLÂn ♈C🅱️ 🏆♠️</td>\n",
       "      <td>31294</td>\n",
       "      <td>431</td>\n",
       "      <td></td>\n",
       "      <td>False</td>\n",
       "      <td>0</td>\n",
       "      <td>5</td>\n",
       "      <td>2020-11-01 07:48:24</td>\n",
       "    </tr>\n",
       "  </tbody>\n",
       "</table>\n",
       "</div>"
      ],
      "text/plain": [
       "                                              Tweets  \\\n",
       "0  RT @BrokenCricket: Last one week:\\n\\nMumbai Wi...   \n",
       "1  As much as I am excited, nervous and pumped up...   \n",
       "2  @ESPNcricinfo @DelhiCapitals still they will b...   \n",
       "3  #Last one week:\\n\\nMumbai Winning\\nCSK winning...   \n",
       "4  RT @being_prakx: He said \"I will gift Virat ip...   \n",
       "\n",
       "                          User User_statuses_count user_followers  \\\n",
       "0                Mukilan Tamil               19678            145   \n",
       "1                  Kanav Bali🏏                1228             63   \n",
       "2                 Ra's Al Ghul                6428             67   \n",
       "3                 IccCWCup2019               57224            772   \n",
       "4  🇮🇳ViRaTiAN kAbÏLÂn ♈C🅱️ 🏆♠️               31294            431   \n",
       "\n",
       "       User_location User_verified fav_count rt_count           tweet_date  \n",
       "0                            False         0      200  2020-11-01 09:05:42  \n",
       "1  Chandigarh, India         False         0        0  2020-11-01 08:34:27  \n",
       "2              India         False         0        0  2020-11-01 08:30:20  \n",
       "3              India         False         0        0  2020-11-01 08:10:14  \n",
       "4                            False         0        5  2020-11-01 07:48:24  "
      ]
     },
     "execution_count": 12,
     "metadata": {},
     "output_type": "execute_result"
    }
   ],
   "source": [
    "df.head()"
   ]
  },
  {
   "cell_type": "code",
   "execution_count": 13,
   "metadata": {},
   "outputs": [
    {
     "name": "stdout",
     "output_type": "stream",
     "text": [
      "Requirement already satisfied: textblob in c:\\users\\jagruti\\anaconda3\\lib\\site-packages (0.15.3)\n",
      "Requirement already satisfied: nltk>=3.1 in c:\\users\\jagruti\\anaconda3\\lib\\site-packages (from textblob) (3.4.5)\n",
      "Requirement already satisfied: six in c:\\users\\jagruti\\anaconda3\\lib\\site-packages (from nltk>=3.1->textblob) (1.14.0)\n"
     ]
    }
   ],
   "source": [
    "!pip install textblob"
   ]
  },
  {
   "cell_type": "code",
   "execution_count": 14,
   "metadata": {},
   "outputs": [],
   "source": [
    "from textblob import TextBlob"
   ]
  },
  {
   "cell_type": "code",
   "execution_count": 15,
   "metadata": {},
   "outputs": [],
   "source": [
    "import re\n",
    "def clean_tweet(tweet):\n",
    "    return ' '.join(re.sub('(@[A-Za-z0-9]+)|([^0-9A-Za-z \\t])|(\\w+:\\/\\/\\S+)', ' ', tweet).split())"
   ]
  },
  {
   "cell_type": "code",
   "execution_count": 16,
   "metadata": {},
   "outputs": [],
   "source": [
    "def analyze_sentiment(tweet):\n",
    "    analysis = TextBlob(tweet)\n",
    "    if analysis.sentiment.polarity > 0:\n",
    "        return 'Positive'\n",
    "    elif analysis.sentiment.polarity == 0:\n",
    "        return 'Neutral'\n",
    "    else:\n",
    "        return 'Negative'"
   ]
  },
  {
   "cell_type": "code",
   "execution_count": 17,
   "metadata": {},
   "outputs": [],
   "source": [
    "df['clean_tweet'] = df['Tweets'].apply(lambda x : clean_tweet(x))"
   ]
  },
  {
   "cell_type": "code",
   "execution_count": 18,
   "metadata": {},
   "outputs": [
    {
     "data": {
      "text/html": [
       "<div>\n",
       "<style scoped>\n",
       "    .dataframe tbody tr th:only-of-type {\n",
       "        vertical-align: middle;\n",
       "    }\n",
       "\n",
       "    .dataframe tbody tr th {\n",
       "        vertical-align: top;\n",
       "    }\n",
       "\n",
       "    .dataframe thead th {\n",
       "        text-align: right;\n",
       "    }\n",
       "</style>\n",
       "<table border=\"1\" class=\"dataframe\">\n",
       "  <thead>\n",
       "    <tr style=\"text-align: right;\">\n",
       "      <th></th>\n",
       "      <th>Tweets</th>\n",
       "      <th>User</th>\n",
       "      <th>User_statuses_count</th>\n",
       "      <th>user_followers</th>\n",
       "      <th>User_location</th>\n",
       "      <th>User_verified</th>\n",
       "      <th>fav_count</th>\n",
       "      <th>rt_count</th>\n",
       "      <th>tweet_date</th>\n",
       "      <th>clean_tweet</th>\n",
       "    </tr>\n",
       "  </thead>\n",
       "  <tbody>\n",
       "    <tr>\n",
       "      <th>0</th>\n",
       "      <td>RT @BrokenCricket: Last one week:\\n\\nMumbai Wi...</td>\n",
       "      <td>Mukilan Tamil</td>\n",
       "      <td>19678</td>\n",
       "      <td>145</td>\n",
       "      <td></td>\n",
       "      <td>False</td>\n",
       "      <td>0</td>\n",
       "      <td>200</td>\n",
       "      <td>2020-11-01 09:05:42</td>\n",
       "      <td>RT Last one week Mumbai Winning CSK winning a ...</td>\n",
       "    </tr>\n",
       "    <tr>\n",
       "      <th>1</th>\n",
       "      <td>As much as I am excited, nervous and pumped up...</td>\n",
       "      <td>Kanav Bali🏏</td>\n",
       "      <td>1228</td>\n",
       "      <td>63</td>\n",
       "      <td>Chandigarh, India</td>\n",
       "      <td>False</td>\n",
       "      <td>0</td>\n",
       "      <td>0</td>\n",
       "      <td>2020-11-01 08:34:27</td>\n",
       "      <td>As much as I am excited nervous and pumped up ...</td>\n",
       "    </tr>\n",
       "    <tr>\n",
       "      <th>2</th>\n",
       "      <td>@ESPNcricinfo @DelhiCapitals still they will b...</td>\n",
       "      <td>Ra's Al Ghul</td>\n",
       "      <td>6428</td>\n",
       "      <td>67</td>\n",
       "      <td>India</td>\n",
       "      <td>False</td>\n",
       "      <td>0</td>\n",
       "      <td>0</td>\n",
       "      <td>2020-11-01 08:30:20</td>\n",
       "      <td>still they will beat rcb though winning ipl lo...</td>\n",
       "    </tr>\n",
       "    <tr>\n",
       "      <th>3</th>\n",
       "      <td>#Last one week:\\n\\nMumbai Winning\\nCSK winning...</td>\n",
       "      <td>IccCWCup2019</td>\n",
       "      <td>57224</td>\n",
       "      <td>772</td>\n",
       "      <td>India</td>\n",
       "      <td>False</td>\n",
       "      <td>0</td>\n",
       "      <td>0</td>\n",
       "      <td>2020-11-01 08:10:14</td>\n",
       "      <td>Last one week Mumbai Winning CSK winning a thr...</td>\n",
       "    </tr>\n",
       "    <tr>\n",
       "      <th>4</th>\n",
       "      <td>RT @being_prakx: He said \"I will gift Virat ip...</td>\n",
       "      <td>🇮🇳ViRaTiAN kAbÏLÂn ♈C🅱️ 🏆♠️</td>\n",
       "      <td>31294</td>\n",
       "      <td>431</td>\n",
       "      <td></td>\n",
       "      <td>False</td>\n",
       "      <td>0</td>\n",
       "      <td>5</td>\n",
       "      <td>2020-11-01 07:48:24</td>\n",
       "      <td>RT prakx He said I will gift Virat ipl Trophy ...</td>\n",
       "    </tr>\n",
       "  </tbody>\n",
       "</table>\n",
       "</div>"
      ],
      "text/plain": [
       "                                              Tweets  \\\n",
       "0  RT @BrokenCricket: Last one week:\\n\\nMumbai Wi...   \n",
       "1  As much as I am excited, nervous and pumped up...   \n",
       "2  @ESPNcricinfo @DelhiCapitals still they will b...   \n",
       "3  #Last one week:\\n\\nMumbai Winning\\nCSK winning...   \n",
       "4  RT @being_prakx: He said \"I will gift Virat ip...   \n",
       "\n",
       "                          User User_statuses_count user_followers  \\\n",
       "0                Mukilan Tamil               19678            145   \n",
       "1                  Kanav Bali🏏                1228             63   \n",
       "2                 Ra's Al Ghul                6428             67   \n",
       "3                 IccCWCup2019               57224            772   \n",
       "4  🇮🇳ViRaTiAN kAbÏLÂn ♈C🅱️ 🏆♠️               31294            431   \n",
       "\n",
       "       User_location User_verified fav_count rt_count           tweet_date  \\\n",
       "0                            False         0      200  2020-11-01 09:05:42   \n",
       "1  Chandigarh, India         False         0        0  2020-11-01 08:34:27   \n",
       "2              India         False         0        0  2020-11-01 08:30:20   \n",
       "3              India         False         0        0  2020-11-01 08:10:14   \n",
       "4                            False         0        5  2020-11-01 07:48:24   \n",
       "\n",
       "                                         clean_tweet  \n",
       "0  RT Last one week Mumbai Winning CSK winning a ...  \n",
       "1  As much as I am excited nervous and pumped up ...  \n",
       "2  still they will beat rcb though winning ipl lo...  \n",
       "3  Last one week Mumbai Winning CSK winning a thr...  \n",
       "4  RT prakx He said I will gift Virat ipl Trophy ...  "
      ]
     },
     "execution_count": 18,
     "metadata": {},
     "output_type": "execute_result"
    }
   ],
   "source": [
    "df.head()"
   ]
  },
  {
   "cell_type": "code",
   "execution_count": 19,
   "metadata": {},
   "outputs": [
    {
     "data": {
      "text/html": [
       "<div>\n",
       "<style scoped>\n",
       "    .dataframe tbody tr th:only-of-type {\n",
       "        vertical-align: middle;\n",
       "    }\n",
       "\n",
       "    .dataframe tbody tr th {\n",
       "        vertical-align: top;\n",
       "    }\n",
       "\n",
       "    .dataframe thead th {\n",
       "        text-align: right;\n",
       "    }\n",
       "</style>\n",
       "<table border=\"1\" class=\"dataframe\">\n",
       "  <thead>\n",
       "    <tr style=\"text-align: right;\">\n",
       "      <th></th>\n",
       "      <th>Tweets</th>\n",
       "      <th>User</th>\n",
       "      <th>User_statuses_count</th>\n",
       "      <th>user_followers</th>\n",
       "      <th>User_location</th>\n",
       "      <th>User_verified</th>\n",
       "      <th>fav_count</th>\n",
       "      <th>rt_count</th>\n",
       "      <th>tweet_date</th>\n",
       "      <th>clean_tweet</th>\n",
       "      <th>Sentiment</th>\n",
       "    </tr>\n",
       "  </thead>\n",
       "  <tbody>\n",
       "    <tr>\n",
       "      <th>0</th>\n",
       "      <td>RT @BrokenCricket: Last one week:\\n\\nMumbai Wi...</td>\n",
       "      <td>Mukilan Tamil</td>\n",
       "      <td>19678</td>\n",
       "      <td>145</td>\n",
       "      <td></td>\n",
       "      <td>False</td>\n",
       "      <td>0</td>\n",
       "      <td>200</td>\n",
       "      <td>2020-11-01 09:05:42</td>\n",
       "      <td>RT Last one week Mumbai Winning CSK winning a ...</td>\n",
       "      <td>Positive</td>\n",
       "    </tr>\n",
       "    <tr>\n",
       "      <th>1</th>\n",
       "      <td>As much as I am excited, nervous and pumped up...</td>\n",
       "      <td>Kanav Bali🏏</td>\n",
       "      <td>1228</td>\n",
       "      <td>63</td>\n",
       "      <td>Chandigarh, India</td>\n",
       "      <td>False</td>\n",
       "      <td>0</td>\n",
       "      <td>0</td>\n",
       "      <td>2020-11-01 08:34:27</td>\n",
       "      <td>As much as I am excited nervous and pumped up ...</td>\n",
       "      <td>Positive</td>\n",
       "    </tr>\n",
       "    <tr>\n",
       "      <th>2</th>\n",
       "      <td>@ESPNcricinfo @DelhiCapitals still they will b...</td>\n",
       "      <td>Ra's Al Ghul</td>\n",
       "      <td>6428</td>\n",
       "      <td>67</td>\n",
       "      <td>India</td>\n",
       "      <td>False</td>\n",
       "      <td>0</td>\n",
       "      <td>0</td>\n",
       "      <td>2020-11-01 08:30:20</td>\n",
       "      <td>still they will beat rcb though winning ipl lo...</td>\n",
       "      <td>Positive</td>\n",
       "    </tr>\n",
       "    <tr>\n",
       "      <th>3</th>\n",
       "      <td>#Last one week:\\n\\nMumbai Winning\\nCSK winning...</td>\n",
       "      <td>IccCWCup2019</td>\n",
       "      <td>57224</td>\n",
       "      <td>772</td>\n",
       "      <td>India</td>\n",
       "      <td>False</td>\n",
       "      <td>0</td>\n",
       "      <td>0</td>\n",
       "      <td>2020-11-01 08:10:14</td>\n",
       "      <td>Last one week Mumbai Winning CSK winning a thr...</td>\n",
       "      <td>Positive</td>\n",
       "    </tr>\n",
       "    <tr>\n",
       "      <th>4</th>\n",
       "      <td>RT @being_prakx: He said \"I will gift Virat ip...</td>\n",
       "      <td>🇮🇳ViRaTiAN kAbÏLÂn ♈C🅱️ 🏆♠️</td>\n",
       "      <td>31294</td>\n",
       "      <td>431</td>\n",
       "      <td></td>\n",
       "      <td>False</td>\n",
       "      <td>0</td>\n",
       "      <td>5</td>\n",
       "      <td>2020-11-01 07:48:24</td>\n",
       "      <td>RT prakx He said I will gift Virat ipl Trophy ...</td>\n",
       "      <td>Positive</td>\n",
       "    </tr>\n",
       "  </tbody>\n",
       "</table>\n",
       "</div>"
      ],
      "text/plain": [
       "                                              Tweets  \\\n",
       "0  RT @BrokenCricket: Last one week:\\n\\nMumbai Wi...   \n",
       "1  As much as I am excited, nervous and pumped up...   \n",
       "2  @ESPNcricinfo @DelhiCapitals still they will b...   \n",
       "3  #Last one week:\\n\\nMumbai Winning\\nCSK winning...   \n",
       "4  RT @being_prakx: He said \"I will gift Virat ip...   \n",
       "\n",
       "                          User User_statuses_count user_followers  \\\n",
       "0                Mukilan Tamil               19678            145   \n",
       "1                  Kanav Bali🏏                1228             63   \n",
       "2                 Ra's Al Ghul                6428             67   \n",
       "3                 IccCWCup2019               57224            772   \n",
       "4  🇮🇳ViRaTiAN kAbÏLÂn ♈C🅱️ 🏆♠️               31294            431   \n",
       "\n",
       "       User_location User_verified fav_count rt_count           tweet_date  \\\n",
       "0                            False         0      200  2020-11-01 09:05:42   \n",
       "1  Chandigarh, India         False         0        0  2020-11-01 08:34:27   \n",
       "2              India         False         0        0  2020-11-01 08:30:20   \n",
       "3              India         False         0        0  2020-11-01 08:10:14   \n",
       "4                            False         0        5  2020-11-01 07:48:24   \n",
       "\n",
       "                                         clean_tweet Sentiment  \n",
       "0  RT Last one week Mumbai Winning CSK winning a ...  Positive  \n",
       "1  As much as I am excited nervous and pumped up ...  Positive  \n",
       "2  still they will beat rcb though winning ipl lo...  Positive  \n",
       "3  Last one week Mumbai Winning CSK winning a thr...  Positive  \n",
       "4  RT prakx He said I will gift Virat ipl Trophy ...  Positive  "
      ]
     },
     "execution_count": 19,
     "metadata": {},
     "output_type": "execute_result"
    }
   ],
   "source": [
    "df['Sentiment'] = df['clean_tweet'].apply(lambda x : analyze_sentiment(x) )\n",
    "df.head()"
   ]
  },
  {
   "cell_type": "code",
   "execution_count": 20,
   "metadata": {},
   "outputs": [
    {
     "name": "stdout",
     "output_type": "stream",
     "text": [
      "Original tweet:\n",
      " As much as I am excited, nervous and pumped up regarding RCB's future in this IPL, the Australian Test series is th… https://t.co/ZYcOA7oizE\n",
      "\n",
      "Clean tweet:\n",
      " As much as I am excited nervous and pumped up regarding RCB s future in this IPL the Australian Test series is th\n",
      "\n",
      "Sentiment of the tweet:\n",
      " Positive\n"
     ]
    }
   ],
   "source": [
    "n = 1\n",
    "print(\"Original tweet:\\n\",df['Tweets'][n])\n",
    "print()\n",
    "print(\"Clean tweet:\\n\",df['clean_tweet'][n])\n",
    "print()\n",
    "print(\"Sentiment of the tweet:\\n\",df['Sentiment'][n])"
   ]
  },
  {
   "cell_type": "code",
   "execution_count": 21,
   "metadata": {},
   "outputs": [
    {
     "name": "stdout",
     "output_type": "stream",
     "text": [
      "Original tweet:\n",
      " RT @BrokenCricket: Last one week:\n",
      "\n",
      "Mumbai Winning\n",
      "CSK winning a thriller\n",
      "Delhi kept losing\n",
      "RCB struggling\n",
      "SRH bowling well\n",
      "RR beat Mumbai…\n",
      "\n",
      "Clean tweet:\n",
      " RT Last one week Mumbai Winning CSK winning a thriller Delhi kept losing RCB struggling SRH bowling well RR beat Mumbai\n",
      "\n",
      "Sentiment of the tweet:\n",
      " Positive\n"
     ]
    }
   ],
   "source": [
    "n = 20\n",
    "print(\"Original tweet:\\n\",df['Tweets'][n])\n",
    "print()\n",
    "print(\"Clean tweet:\\n\",df['clean_tweet'][n])\n",
    "print()\n",
    "print(\"Sentiment of the tweet:\\n\",df['Sentiment'][n])"
   ]
  },
  {
   "cell_type": "code",
   "execution_count": 22,
   "metadata": {},
   "outputs": [
    {
     "name": "stdout",
     "output_type": "stream",
     "text": [
      "Original tweet:\n",
      " RT @BrokenCricket: Last one week:\n",
      "\n",
      "Mumbai Winning\n",
      "CSK winning a thriller\n",
      "Delhi kept losing\n",
      "RCB struggling\n",
      "SRH bowling well\n",
      "RR beat Mumbai…\n",
      "\n",
      "Clean tweet:\n",
      " RT Last one week Mumbai Winning CSK winning a thriller Delhi kept losing RCB struggling SRH bowling well RR beat Mumbai\n",
      "\n",
      "Sentiment of the tweet:\n",
      " Positive\n"
     ]
    }
   ],
   "source": [
    "n = 203\n",
    "print(\"Original tweet:\\n\",df['Tweets'][n])\n",
    "print()\n",
    "print(\"Clean tweet:\\n\",df['clean_tweet'][n])\n",
    "print()\n",
    "print(\"Sentiment of the tweet:\\n\",df['Sentiment'][n])"
   ]
  },
  {
   "cell_type": "code",
   "execution_count": 23,
   "metadata": {},
   "outputs": [
    {
     "data": {
      "text/plain": [
       "846"
      ]
     },
     "execution_count": 23,
     "metadata": {},
     "output_type": "execute_result"
    }
   ],
   "source": [
    "df[df.Sentiment == 'Positive'].shape[0]"
   ]
  },
  {
   "cell_type": "code",
   "execution_count": 24,
   "metadata": {},
   "outputs": [
    {
     "data": {
      "text/plain": [
       "21"
      ]
     },
     "execution_count": 24,
     "metadata": {},
     "output_type": "execute_result"
    }
   ],
   "source": [
    "df[df.Sentiment == 'Neutral'].shape[0]"
   ]
  },
  {
   "cell_type": "code",
   "execution_count": 25,
   "metadata": {},
   "outputs": [
    {
     "data": {
      "text/plain": [
       "32"
      ]
     },
     "execution_count": 25,
     "metadata": {},
     "output_type": "execute_result"
    }
   ],
   "source": [
    "df[df.Sentiment == 'Negative'].shape[0]"
   ]
  },
  {
   "cell_type": "code",
   "execution_count": null,
   "metadata": {},
   "outputs": [],
   "source": []
  }
 ],
 "metadata": {
  "kernelspec": {
   "display_name": "Python 3",
   "language": "python",
   "name": "python3"
  },
  "language_info": {
   "codemirror_mode": {
    "name": "ipython",
    "version": 3
   },
   "file_extension": ".py",
   "mimetype": "text/x-python",
   "name": "python",
   "nbconvert_exporter": "python",
   "pygments_lexer": "ipython3",
   "version": "3.7.6"
  }
 },
 "nbformat": 4,
 "nbformat_minor": 4
}
