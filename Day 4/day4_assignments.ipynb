{
 "cells": [
  {
   "cell_type": "markdown",
   "metadata": {},
   "source": [
    "Assignment 1: Implement python prg to demonstrate arithmatic operation"
   ]
  },
  {
   "cell_type": "code",
   "execution_count": 6,
   "metadata": {},
   "outputs": [
    {
     "name": "stdout",
     "output_type": "stream",
     "text": [
      "Addition of two coplex no is: (5+13j)\n",
      "Substraction is: (-1+3j)\n",
      "Multiplication is: (-34+34j)\n",
      "Division is: (1.352941176470588+0.4117647058823529j)\n",
      "floor division is: 2\n"
     ]
    }
   ],
   "source": [
    "a=2+8j\n",
    "b=3+5j\n",
    "add=a+b\n",
    "print(\"Addition of two coplex no is:\",add)\n",
    "\n",
    "sub=a-b\n",
    "print(\"Substraction is:\",sub)\n",
    "\n",
    "mul=a * b\n",
    "print(\"Multiplication is:\",mul)\n",
    "\n",
    "div=a / b\n",
    "print(\"Division is:\",div)\n",
    "\n",
    "# Floor division\n",
    "x=8\n",
    "y=3\n",
    "floordiv=x // y\n",
    "print(\"floor division is:\",floordiv)"
   ]
  },
  {
   "cell_type": "markdown",
   "metadata": {},
   "source": [
    "Assignment 2: prg for range() and its parameter"
   ]
  },
  {
   "cell_type": "markdown",
   "metadata": {},
   "source": [
    "The range() is use for performing a action in some range between parameter .The range() is mainly used in looping statements.\n",
    "It is use for executed iterative loop.\n",
    "There are three ways of defining range() :\n",
    "1. single parameter -> range(stop)\n",
    "2. two parameter -> range(start, stop)\n",
    "3. Three parameter -> range(start,stop,step)"
   ]
  },
  {
   "cell_type": "code",
   "execution_count": 9,
   "metadata": {},
   "outputs": [
    {
     "name": "stdout",
     "output_type": "stream",
     "text": [
      "0\n",
      "1\n",
      "4\n",
      "9\n",
      "16\n",
      "25\n",
      "36\n",
      "49\n",
      "64\n",
      "81\n"
     ]
    }
   ],
   "source": [
    "# prg for range() using one argument\n",
    "for i in range(10):\n",
    "    print(i*i)"
   ]
  },
  {
   "cell_type": "code",
   "execution_count": 12,
   "metadata": {},
   "outputs": [
    {
     "name": "stdout",
     "output_type": "stream",
     "text": [
      "1\n",
      "3\n",
      "6\n",
      "10\n",
      "15\n",
      "21\n",
      "28\n",
      "36\n",
      "45\n",
      "Addition of given range is: 45\n"
     ]
    }
   ],
   "source": [
    "# prog for addition using range() with 2 arguments\n",
    "a=0\n",
    "for i in range(1,10):\n",
    "    a=a+i\n",
    "    print(a)\n",
    "print(\"Addition of given range is:\",a)"
   ]
  },
  {
   "cell_type": "markdown",
   "metadata": {},
   "source": [
    "Assignment 3: consider 2 no. perform their substraction & if the result of substraction is greater than 25 then print multiplication else print division as result."
   ]
  },
  {
   "cell_type": "code",
   "execution_count": 1,
   "metadata": {},
   "outputs": [
    {
     "name": "stdout",
     "output_type": "stream",
     "text": [
      "multiplication is: 2100\n"
     ]
    }
   ],
   "source": [
    "a=70\n",
    "b=30\n",
    "c=a-b\n",
    "if c > 25:\n",
    "    print(\"multiplication is:\", a * b)\n",
    "else:\n",
    "    print(\"Division is:\", a // b)"
   ]
  },
  {
   "cell_type": "code",
   "execution_count": 6,
   "metadata": {},
   "outputs": [
    {
     "name": "stdout",
     "output_type": "stream",
     "text": [
      "enter the first no: 27\n",
      "enter the second no: 12\n",
      "Division is: 2\n"
     ]
    }
   ],
   "source": [
    "# anather way for solve this prb\n",
    "a=int(input(\"enter the first no: \"))\n",
    "b=int(input(\"enter the second no: \"))\n",
    "c=a-b\n",
    "if c > 25:\n",
    "    print(\"multiplication is:\", a * b)\n",
    "else:\n",
    "    print(\"Division is:\", a // b)"
   ]
  },
  {
   "cell_type": "markdown",
   "metadata": {},
   "source": [
    "Assignment 4: consider the list of 10 elements of int value,if the no.in the list is divisible by 2, print the result as \"Square of that no. minus-2\"."
   ]
  },
  {
   "cell_type": "code",
   "execution_count": 16,
   "metadata": {},
   "outputs": [
    {
     "name": "stdout",
     "output_type": "stream",
     "text": [
      "Squre of the no. minus by 2: 18\n",
      "Squre of the no. minus by 2: 10\n",
      "Squre of the no. minus by 2: 88\n",
      "Squre of the no. minus by 2: 98\n",
      "Squre of the no. minus by 2: 76\n",
      "Squre of the no. minus by 2: 22\n",
      "\n"
     ]
    }
   ],
   "source": [
    "l=[20,33,12,90,45,100,67,78,24,79]\n",
    "for j in range(10):\n",
    "    if l[j] % 2==0:\n",
    "        print(\"Squre of the no. minus by 2:\",l[j] -2)\n",
    "print()\n",
    "\n"
   ]
  },
  {
   "cell_type": "markdown",
   "metadata": {},
   "source": [
    "Assignment 5: Consider a list of 10 element .print all the element in the list which are greater than 7 when that no is divided  2"
   ]
  },
  {
   "cell_type": "code",
   "execution_count": 18,
   "metadata": {},
   "outputs": [
    {
     "name": "stdout",
     "output_type": "stream",
     "text": [
      "[2, 56, 33, 78, 4, 10, 89, 45, 71, 3]\n",
      "The output is: 56\n",
      "The output is: 78\n",
      "The output is: 10\n",
      "\n"
     ]
    }
   ],
   "source": [
    "l=[2,56,33,78,4,10,89,45,71,3]\n",
    "print(l)\n",
    "for j in range(10):\n",
    "    if l[j] > 7:\n",
    "        if l[j] % 2==0:\n",
    "            print(\"The output is:\",l[j])\n",
    "print()"
   ]
  },
  {
   "cell_type": "code",
   "execution_count": null,
   "metadata": {},
   "outputs": [],
   "source": []
  }
 ],
 "metadata": {
  "kernelspec": {
   "display_name": "Python 3",
   "language": "python",
   "name": "python3"
  },
  "language_info": {
   "codemirror_mode": {
    "name": "ipython",
    "version": 3
   },
   "file_extension": ".py",
   "mimetype": "text/x-python",
   "name": "python",
   "nbconvert_exporter": "python",
   "pygments_lexer": "ipython3",
   "version": "3.7.6"
  }
 },
 "nbformat": 4,
 "nbformat_minor": 4
}
