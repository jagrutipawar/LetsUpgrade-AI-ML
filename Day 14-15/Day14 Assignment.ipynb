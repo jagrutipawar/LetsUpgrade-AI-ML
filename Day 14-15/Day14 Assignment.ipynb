{
 "cells": [
  {
   "cell_type": "markdown",
   "metadata": {},
   "source": [
    "# 1. Create a 3x3x3 array with random values"
   ]
  },
  {
   "cell_type": "code",
   "execution_count": 2,
   "metadata": {},
   "outputs": [
    {
     "data": {
      "text/plain": [
       "array([[6.522e-322, 0.000e+000, 0.000e+000],\n",
       "       [0.000e+000, 0.000e+000, 3.933e-321],\n",
       "       [0.000e+000, 0.000e+000, 0.000e+000]])"
      ]
     },
     "execution_count": 2,
     "metadata": {},
     "output_type": "execute_result"
    }
   ],
   "source": [
    "import numpy as np\n",
    "np.empty((3,3))"
   ]
  },
  {
   "cell_type": "code",
   "execution_count": 3,
   "metadata": {},
   "outputs": [
    {
     "data": {
      "text/plain": [
       "array([[[9.1e-322, 0.0e+000, 0.0e+000],\n",
       "        [0.0e+000, 0.0e+000, 0.0e+000],\n",
       "        [0.0e+000, 0.0e+000, 0.0e+000]],\n",
       "\n",
       "       [[0.0e+000, 0.0e+000, 0.0e+000],\n",
       "        [0.0e+000, 0.0e+000, 0.0e+000],\n",
       "        [0.0e+000, 0.0e+000, 0.0e+000]],\n",
       "\n",
       "       [[0.0e+000, 0.0e+000, 0.0e+000],\n",
       "        [0.0e+000, 0.0e+000, 0.0e+000],\n",
       "        [0.0e+000, 0.0e+000, 0.0e+000]]])"
      ]
     },
     "execution_count": 3,
     "metadata": {},
     "output_type": "execute_result"
    }
   ],
   "source": [
    "np.empty((3,3,3))"
   ]
  },
  {
   "cell_type": "markdown",
   "metadata": {},
   "source": [
    "# 2.Create a 5x5 matrix with values 1,2,3,4 just below the diagonal"
   ]
  },
  {
   "cell_type": "code",
   "execution_count": 4,
   "metadata": {},
   "outputs": [],
   "source": [
    "import numpy as np"
   ]
  },
  {
   "cell_type": "code",
   "execution_count": 5,
   "metadata": {},
   "outputs": [
    {
     "data": {
      "text/plain": [
       "array([[1, 0, 0, 0, 0],\n",
       "       [0, 2, 0, 0, 0],\n",
       "       [0, 0, 3, 0, 0],\n",
       "       [0, 0, 0, 4, 0],\n",
       "       [0, 0, 0, 0, 0]])"
      ]
     },
     "execution_count": 5,
     "metadata": {},
     "output_type": "execute_result"
    }
   ],
   "source": [
    "a1=np.diag([1,2,3,4,0])\n",
    "a1"
   ]
  },
  {
   "cell_type": "markdown",
   "metadata": {},
   "source": [
    "# 3.Create a 8x8 matrix and fill it with a checkerboard pattern"
   ]
  },
  {
   "cell_type": "code",
   "execution_count": 6,
   "metadata": {},
   "outputs": [
    {
     "name": "stdout",
     "output_type": "stream",
     "text": [
      "[[0. 1. 0. 1. 0. 1. 0. 1.]\n",
      " [1. 0. 1. 0. 1. 0. 1. 0.]\n",
      " [0. 1. 0. 1. 0. 1. 0. 1.]\n",
      " [1. 0. 1. 0. 1. 0. 1. 0.]\n",
      " [0. 1. 0. 1. 0. 1. 0. 1.]\n",
      " [1. 0. 1. 0. 1. 0. 1. 0.]\n",
      " [0. 1. 0. 1. 0. 1. 0. 1.]\n",
      " [1. 0. 1. 0. 1. 0. 1. 0.]]\n"
     ]
    }
   ],
   "source": [
    "b=np.zeros((8,8))\n",
    "b[1::2, ::2] = 1\n",
    "b[::2, 1::2] = 1\n",
    "\n",
    "for i in range(8): \n",
    "        for j in range(8): \n",
    "            b[i][j]\n",
    "\n",
    "print(b)  "
   ]
  },
  {
   "cell_type": "markdown",
   "metadata": {},
   "source": [
    "# 4. Normalize a 5x5 random matrix"
   ]
  },
  {
   "cell_type": "code",
   "execution_count": 7,
   "metadata": {},
   "outputs": [
    {
     "name": "stdout",
     "output_type": "stream",
     "text": [
      "Original Array:\n",
      "[[0.1657769  0.95071525 0.22296099]\n",
      " [0.03998103 0.07439648 0.79378592]\n",
      " [0.49345748 0.55580623 0.8692982 ]]\n",
      "After normalization:\n",
      "[[0.13812578 1.         0.20091478]\n",
      " [0.         0.03778869 0.82768921]\n",
      " [0.49792403 0.5663839  0.91060284]]\n"
     ]
    }
   ],
   "source": [
    "import numpy as np\n",
    "A= np.random.random((3,3))\n",
    "print(\"Original Array:\")\n",
    "print(A)\n",
    "xmax, xmin = A.max(), A.min()\n",
    "A = (A - xmin)/(xmax - xmin)\n",
    "print(\"After normalization:\")\n",
    "print(A)"
   ]
  },
  {
   "cell_type": "markdown",
   "metadata": {},
   "source": [
    "# 5. How to find common values between two arrays?"
   ]
  },
  {
   "cell_type": "code",
   "execution_count": 8,
   "metadata": {},
   "outputs": [
    {
     "name": "stdout",
     "output_type": "stream",
     "text": [
      "a= <IntegerArray>\n",
      "[10, 20, 30, 40, 50, 60]\n",
      "Length: 6, dtype: Int64\n",
      "length(a)= 6\n",
      "b= [20 80 50 70 90]\n",
      "Lenghth (b)= 5\n"
     ]
    }
   ],
   "source": [
    "import pandas as pd\n",
    "a=pd.array([10,20,30,40,50,60])\n",
    "b=np.array([20,80,50,70,90])\n",
    "print(\"a=\",a)\n",
    "print(\"length(a)=\",len(a))\n",
    "print(\"b=\",b)\n",
    "print(\"Lenghth (b)=\",len(b))"
   ]
  },
  {
   "cell_type": "code",
   "execution_count": 9,
   "metadata": {},
   "outputs": [
    {
     "name": "stdout",
     "output_type": "stream",
     "text": [
      "The commane element of 2 arrays is: [20, 50]\n"
     ]
    }
   ],
   "source": [
    "x=[]\n",
    "for i in a:\n",
    "    if i in b:\n",
    "        x.append(i)\n",
    "#     else:\n",
    "#         print(\"no comman element\")\n",
    "print(\"The commane element of 2 arrays is:\",x)"
   ]
  },
  {
   "cell_type": "markdown",
   "metadata": {},
   "source": [
    "# 6.How to get the dates of yesterday, today and tomorrow?"
   ]
  },
  {
   "cell_type": "code",
   "execution_count": 10,
   "metadata": {},
   "outputs": [
    {
     "name": "stdout",
     "output_type": "stream",
     "text": [
      "Yestraday:  2020-07-25\n",
      "Today:  2020-07-26\n",
      "Tomorrow:  2020-07-27\n"
     ]
    }
   ],
   "source": [
    "import numpy as np\n",
    "yesterday = np.datetime64('today', 'D') - np.timedelta64(1, 'D')\n",
    "print(\"Yestraday: \",yesterday)\n",
    "today     = np.datetime64('today', 'D')\n",
    "print(\"Today: \",today)\n",
    "tomorrow  = np.datetime64('today', 'D') + np.timedelta64(1, 'D')\n",
    "print(\"Tomorrow: \",tomorrow)"
   ]
  },
  {
   "cell_type": "markdown",
   "metadata": {},
   "source": [
    "# 7. Consider two random array A and B, check if they are equal"
   ]
  },
  {
   "cell_type": "code",
   "execution_count": 11,
   "metadata": {},
   "outputs": [
    {
     "name": "stdout",
     "output_type": "stream",
     "text": [
      "[[ 7.41098469e-323  0.00000000e+000  0.00000000e+000  0.00000000e+000\n",
      "   0.00000000e+000]\n",
      " [ 0.00000000e+000  0.00000000e+000  0.00000000e+000  0.00000000e+000\n",
      "   0.00000000e+000]\n",
      " [ 0.00000000e+000  0.00000000e+000  0.00000000e+000  0.00000000e+000\n",
      "   0.00000000e+000]\n",
      " [-2.19923762e-310  8.89318163e-323  0.00000000e+000  0.00000000e+000\n",
      "   0.00000000e+000]\n",
      " [ 0.00000000e+000  0.00000000e+000  0.00000000e+000  0.00000000e+000\n",
      "   0.00000000e+000]]\n",
      "------------------------------------------------\n",
      "[[ 1.38338381e-322  0.00000000e+000  0.00000000e+000  0.00000000e+000\n",
      "   0.00000000e+000]\n",
      " [-6.32779263e-310  1.28457068e-322  0.00000000e+000  0.00000000e+000\n",
      "   0.00000000e+000]\n",
      " [ 0.00000000e+000  0.00000000e+000  0.00000000e+000  0.00000000e+000\n",
      "   0.00000000e+000]\n",
      " [ 0.00000000e+000  0.00000000e+000  0.00000000e+000  0.00000000e+000\n",
      "   0.00000000e+000]\n",
      " [ 0.00000000e+000 -6.38211572e-310  6.64008201e+265  1.01231768e+190\n",
      "   1.81596891e-152]]\n",
      "After checking the equality the array is equal or not:\n",
      "False\n"
     ]
    }
   ],
   "source": [
    "A=np.empty((5,5))\n",
    "B=np.empty((5,5))\n",
    "print(A)\n",
    "print(\"------------------------------------------------\")\n",
    "print(B)\n",
    "equal=np.allclose(A,B)\n",
    "print(\"After checking the equality the array is equal or not:\")\n",
    "print(equal)\n"
   ]
  },
  {
   "cell_type": "markdown",
   "metadata": {},
   "source": [
    "# 8.Create random vector of size 10 and replace the maximum value by 0"
   ]
  },
  {
   "cell_type": "code",
   "execution_count": 12,
   "metadata": {},
   "outputs": [
    {
     "name": "stdout",
     "output_type": "stream",
     "text": [
      "Original array:\n",
      "[0.27638127 0.68270807 0.81924725 0.02552236 0.36298156 0.55390001\n",
      " 0.79746971 0.57221977 0.52923353 0.39977917]\n",
      "Maximum value replaced by 0:\n",
      "[0.27638127 0.68270807 0.         0.02552236 0.36298156 0.55390001\n",
      " 0.79746971 0.57221977 0.52923353 0.39977917]\n"
     ]
    }
   ],
   "source": [
    "import numpy as np\n",
    "x = np.random.random(10)\n",
    "print(\"Original array:\")\n",
    "print(x)\n",
    "x[x.argmax()] = 0\n",
    "print(\"Maximum value replaced by 0:\")\n",
    "print(x)"
   ]
  },
  {
   "cell_type": "markdown",
   "metadata": {},
   "source": [
    "# 9. How to print all the values of an array?"
   ]
  },
  {
   "cell_type": "code",
   "execution_count": 13,
   "metadata": {},
   "outputs": [
    {
     "name": "stdout",
     "output_type": "stream",
     "text": [
      "[[0. 0. 0. 0. 0.]\n",
      " [0. 0. 0. 0. 0.]\n",
      " [0. 0. 0. 0. 0.]\n",
      " [0. 0. 0. 0. 0.]\n",
      " [0. 0. 0. 0. 0.]]\n"
     ]
    }
   ],
   "source": [
    "import numpy as np\n",
    "a=np.zeros((5,5))\n",
    "print(a)"
   ]
  },
  {
   "cell_type": "markdown",
   "metadata": {},
   "source": [
    "# 10.Subtract the mean of each row of a matrix "
   ]
  },
  {
   "cell_type": "code",
   "execution_count": 14,
   "metadata": {},
   "outputs": [
    {
     "name": "stdout",
     "output_type": "stream",
     "text": [
      "[[ 1  3  5  4]\n",
      " [ 7 10  8 11]\n",
      " [12 22 44 55]\n",
      " [11 14 16  3]]\n",
      "[[ -2.25  -6.   -28.25  -7.  ]\n",
      " [  3.75   1.   -25.25   0.  ]\n",
      " [  8.75  13.    10.75  44.  ]\n",
      " [  7.75   5.   -17.25  -8.  ]]\n"
     ]
    }
   ],
   "source": [
    "import numpy as np\n",
    "x=np.array([[1,3,5,4],[7,10,8,11],[12,22,44,55],[11,14,16,3]])\n",
    "# print(x.shape)\n",
    "print(x)\n",
    "z=x-x.mean(axis=1)\n",
    "print(z)"
   ]
  },
  {
   "cell_type": "code",
   "execution_count": 15,
   "metadata": {},
   "outputs": [
    {
     "name": "stdout",
     "output_type": "stream",
     "text": [
      "[[1 2 3]\n",
      " [4 5 6]\n",
      " [7 8 9]]\n",
      "[[-1. -3. -5.]\n",
      " [ 2.  0. -2.]\n",
      " [ 5.  3.  1.]]\n"
     ]
    }
   ],
   "source": [
    "x=np.array([[1,2,3],[4,5,6],[7,8,9]])\n",
    "# print(x.shape)\n",
    "print(x)\n",
    "z=x-x.mean(axis=1)\n",
    "print(z)"
   ]
  },
  {
   "cell_type": "markdown",
   "metadata": {},
   "source": [
    "# 11.Consider a given vector, how to add 1 to each element indexed by a second vector (be careful with repeated indices)?"
   ]
  },
  {
   "cell_type": "code",
   "execution_count": 1,
   "metadata": {},
   "outputs": [
    {
     "name": "stdout",
     "output_type": "stream",
     "text": [
      "[5. 2. 3. 4. 1. 2. 3. 3. 4. 3.]\n"
     ]
    }
   ],
   "source": [
    "import numpy as np\n",
    "A = np.ones(10)\n",
    "I = np.random.randint(0,len(A),20)\n",
    "A += np.bincount(I, minlength=len(A))\n",
    "print(A)"
   ]
  },
  {
   "cell_type": "markdown",
   "metadata": {},
   "source": [
    "# 12.How to get the diagonal of a dot product?"
   ]
  },
  {
   "cell_type": "code",
   "execution_count": 16,
   "metadata": {},
   "outputs": [
    {
     "name": "stdout",
     "output_type": "stream",
     "text": [
      "[[7 5 8 5 9]\n",
      " [4 7 3 2 5]\n",
      " [5 3 8 7 1]\n",
      " [7 6 1 1 6]\n",
      " [5 3 5 5 8]]\n",
      "[[0 9 6 2 6]\n",
      " [8 2 8 3 5]\n",
      " [9 8 7 4 1]\n",
      " [7 2 7 0 6]\n",
      " [0 1 4 8 6]]\n"
     ]
    },
    {
     "data": {
      "text/plain": [
       "array([147,  83, 163,  84, 128])"
      ]
     },
     "execution_count": 16,
     "metadata": {},
     "output_type": "execute_result"
    }
   ],
   "source": [
    "import numpy as np\n",
    "A=np.random.randint(0,10,(5,5))\n",
    "B=np.random.randint(0,10,(5,5))\n",
    "print(A)\n",
    "print(B)\n",
    "\n",
    "C=np.diag(np.dot(A,B))\n",
    "C"
   ]
  },
  {
   "cell_type": "markdown",
   "metadata": {},
   "source": [
    "# 13.How to find the most frequent value in an array?"
   ]
  },
  {
   "cell_type": "code",
   "execution_count": 17,
   "metadata": {},
   "outputs": [
    {
     "name": "stdout",
     "output_type": "stream",
     "text": [
      "[10  3  5 10  8  5 76 10 67 89 66 90]\n",
      "Most frequent value is: 10\n"
     ]
    }
   ],
   "source": [
    "A=np.array([10,3,5,10,8,5,76,10,67,89,66,90])\n",
    "print(A)\n",
    "print(\"Most frequent value is:\",np.bincount(A).argmax())"
   ]
  },
  {
   "cell_type": "markdown",
   "metadata": {},
   "source": [
    "# 14.How to get the n largest values of an array"
   ]
  },
  {
   "cell_type": "code",
   "execution_count": 18,
   "metadata": {},
   "outputs": [
    {
     "name": "stdout",
     "output_type": "stream",
     "text": [
      "[10 33 78  2 92 45 20 12 44 28]\n",
      "92\n"
     ]
    }
   ],
   "source": [
    "import numpy as np\n",
    "x=np.array([10,33,78,2,92,45,20,12,44,28])\n",
    "print(x)\n",
    "print(max(x))"
   ]
  },
  {
   "cell_type": "code",
   "execution_count": 19,
   "metadata": {},
   "outputs": [
    {
     "name": "stdout",
     "output_type": "stream",
     "text": [
      "Given array :\n",
      "[ 12  89  75  80  23  55 443  34  88  90] \n",
      "\n",
      "Enter the n value for print : 4\n",
      "\n",
      "The 4 largest values of given array are :\n",
      "[ 88  89  90 443]\n"
     ]
    }
   ],
   "source": [
    "A=np.array([12,89,75,80,23,55,443,34,88,90])\n",
    "print(\"Given array :\")\n",
    "print(A,\"\\n\")\n",
    "x = np.unique(A)\n",
    "y = np.sort(x)\n",
    "n = int(input(\"Enter the n value for print : \"))\n",
    "print(\"\\nThe\",n,\"largest values of given array are :\")\n",
    "print(y[-n:])"
   ]
  },
  {
   "cell_type": "markdown",
   "metadata": {},
   "source": [
    "# 15.How to create a record array from a regular array?"
   ]
  },
  {
   "cell_type": "code",
   "execution_count": 21,
   "metadata": {},
   "outputs": [
    {
     "name": "stdout",
     "output_type": "stream",
     "text": [
      "[['Python' '10.5' '40']\n",
      " ['Numpy' '30' '20']]\n"
     ]
    },
    {
     "ename": "TypeError",
     "evalue": "fromarrays() got an unexpected keyword argument 'format'",
     "output_type": "error",
     "traceback": [
      "\u001b[1;31m---------------------------------------------------------------------------\u001b[0m",
      "\u001b[1;31mTypeError\u001b[0m                                 Traceback (most recent call last)",
      "\u001b[1;32m<ipython-input-21-042d26988fb0>\u001b[0m in \u001b[0;36m<module>\u001b[1;34m\u001b[0m\n\u001b[0;32m      4\u001b[0m Ans=np.core.records.fromarrays(A.T,\n\u001b[0;32m      5\u001b[0m                               \u001b[0mnames\u001b[0m\u001b[1;33m=\u001b[0m\u001b[1;34m'col1,col2,col3'\u001b[0m\u001b[1;33m,\u001b[0m\u001b[1;33m\u001b[0m\u001b[1;33m\u001b[0m\u001b[0m\n\u001b[1;32m----> 6\u001b[1;33m                               format='S10,f10,i10')\n\u001b[0m\u001b[0;32m      7\u001b[0m \u001b[0mprint\u001b[0m\u001b[1;33m(\u001b[0m\u001b[0mAns\u001b[0m\u001b[1;33m)\u001b[0m\u001b[1;33m\u001b[0m\u001b[1;33m\u001b[0m\u001b[0m\n",
      "\u001b[1;31mTypeError\u001b[0m: fromarrays() got an unexpected keyword argument 'format'"
     ]
    }
   ],
   "source": [
    "import numpy as np\n",
    "A=np.array([(\"Python\",10.5,40),(\"Numpy\",30,20)])\n",
    "print(A)\n",
    "Ans=np.core.records.fromarrays(A.T,\n",
    "                              names='col1,col2,col3',\n",
    "                              format='S10,f10,i10')\n",
    "print(Ans)"
   ]
  },
  {
   "cell_type": "code",
   "execution_count": 3,
   "metadata": {},
   "outputs": [
    {
     "name": "stdout",
     "output_type": "stream",
     "text": [
      "('Python', 10)\n",
      "('LetsUpgrade', 20)\n"
     ]
    }
   ],
   "source": [
    "\n",
    "import numpy as np\n",
    "a =np.array([\"Python\",\"LetsUpgrade\"])\n",
    "b=np.array([10,20])\n",
    "result=np.core.records.fromarrays([a,b])\n",
    "print(result[0])\n",
    "print(result[1])\n"
   ]
  },
  {
   "cell_type": "code",
   "execution_count": null,
   "metadata": {},
   "outputs": [],
   "source": []
  }
 ],
 "metadata": {
  "kernelspec": {
   "display_name": "Python 3",
   "language": "python",
   "name": "python3"
  },
  "language_info": {
   "codemirror_mode": {
    "name": "ipython",
    "version": 3
   },
   "file_extension": ".py",
   "mimetype": "text/x-python",
   "name": "python",
   "nbconvert_exporter": "python",
   "pygments_lexer": "ipython3",
   "version": "3.7.6"
  }
 },
 "nbformat": 4,
 "nbformat_minor": 4
}
