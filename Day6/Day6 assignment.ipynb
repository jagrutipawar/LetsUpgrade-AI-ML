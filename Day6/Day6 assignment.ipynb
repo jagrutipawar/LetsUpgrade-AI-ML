{
 "cells": [
  {
   "cell_type": "markdown",
   "metadata": {},
   "source": [
    "Assignment 1: WAP to print the company name of given email addr. Both user name & company names are omposed of letters only"
   ]
  },
  {
   "cell_type": "code",
   "execution_count": 7,
   "metadata": {},
   "outputs": [
    {
     "name": "stdout",
     "output_type": "stream",
     "text": [
      "Enter the email address of user with company name: jayesh@google.com\n",
      "google\n"
     ]
    }
   ],
   "source": [
    "emailaddr=input(\"Enter the email address of user with company name: \")\n",
    "com=emailaddr.split('@')[1] . split('.')[0]\n",
    "print(com)\n"
   ]
  },
  {
   "cell_type": "markdown",
   "metadata": {},
   "source": [
    "Assignment 2: WAP that accepts a comma-seperated sequence of worlds as input & print the worlds in a comma seperated sequence after sorting them aplphabeticaly"
   ]
  },
  {
   "cell_type": "code",
   "execution_count": 11,
   "metadata": {},
   "outputs": [
    {
     "name": "stdout",
     "output_type": "stream",
     "text": [
      "Input comma separated sequence of wordsapp,google,max,big\n",
      "app,big,google,max\n"
     ]
    }
   ],
   "source": [
    "items = input(\"Input comma separated sequence of words: \")\n",
    "words = [word for word in items.split(\",\")]\n",
    "print(\",\".join(sorted(list(set(words)))))"
   ]
  },
  {
   "cell_type": "markdown",
   "metadata": {},
   "source": [
    "Assignment 3:create a jupyter notebook for set"
   ]
  },
  {
   "cell_type": "markdown",
   "metadata": {},
   "source": [
    "# set:"
   ]
  },
  {
   "cell_type": "markdown",
   "metadata": {},
   "source": [
    "set is a collection of unique number of data.\n",
    "Change item: you can't change the element of set but you can add a new element in set.\n",
    "\n",
    "    Add item-for one item add in set for that time \"add()\" method is use.\n",
    "    you can add more than one item using \"update()\" method\n",
    "    \n",
    "    some other  method is use for:\n",
    "    remove()->remove the specific element\n",
    "    len()->calculate the set length.\n",
    "    discard()-> like as remove method.\n",
    "    pop()-> remove the last element from set\n",
    "    clear()\n",
    "    del()->delete the complete set.\n",
    "    \n",
    "Join two sets:\n",
    "union()->The union() method returns a new set with all items.\n"
   ]
  },
  {
   "cell_type": "code",
   "execution_count": 10,
   "metadata": {},
   "outputs": [
    {
     "name": "stdout",
     "output_type": "stream",
     "text": [
      "{'lina', 'ram', 'sai'}\n",
      "False\n",
      "{'lina', 'ram', 'nilu', 'sai'}\n",
      "4\n",
      "{'lina', 'nilu', 'sai'}\n",
      "pop the element: lina\n",
      "{'nilu', 'sai'}\n",
      "set()\n"
     ]
    },
    {
     "ename": "AttributeError",
     "evalue": "'set' object has no attribute 'delete'",
     "output_type": "error",
     "traceback": [
      "\u001b[1;31m---------------------------------------------------------------------------\u001b[0m",
      "\u001b[1;31mAttributeError\u001b[0m                            Traceback (most recent call last)",
      "\u001b[1;32m<ipython-input-10-f0ad74ac8c8e>\u001b[0m in \u001b[0;36m<module>\u001b[1;34m\u001b[0m\n\u001b[0;32m     21\u001b[0m \u001b[1;33m\u001b[0m\u001b[0m\n\u001b[0;32m     22\u001b[0m \u001b[1;31m# delete set\u001b[0m\u001b[1;33m\u001b[0m\u001b[1;33m\u001b[0m\u001b[1;33m\u001b[0m\u001b[0m\n\u001b[1;32m---> 23\u001b[1;33m \u001b[0mset1\u001b[0m\u001b[1;33m.\u001b[0m\u001b[0mdelete\u001b[0m\u001b[1;33m(\u001b[0m\u001b[1;33m)\u001b[0m\u001b[1;33m\u001b[0m\u001b[1;33m\u001b[0m\u001b[0m\n\u001b[0m",
      "\u001b[1;31mAttributeError\u001b[0m: 'set' object has no attribute 'delete'"
     ]
    }
   ],
   "source": [
    "set1={\"ram\",\"sai\",\"lina\"}\n",
    "print(set1)\n",
    "# Access item from set\n",
    "print(\"xyz\" in set1)\n",
    "# Add item:\n",
    "set1.add(\"nilu\")\n",
    "print(set1)\n",
    "# get the length\n",
    "print(len(set1))\n",
    "# remove item\n",
    "set1.remove(\"ram\")\n",
    "print(set1)\n",
    "\n",
    "#pop the item\n",
    "x=set1.pop()\n",
    "print(\"pop the element:\",x)\n",
    "print(set1)\n",
    "\n",
    "set1.clear()\n",
    "print(set1)\n"
   ]
  },
  {
   "cell_type": "code",
   "execution_count": 15,
   "metadata": {},
   "outputs": [
    {
     "name": "stdout",
     "output_type": "stream",
     "text": [
      "{1, 2, 'a', 'c', 3, 'b'}\n",
      "{1, 2, 'a', 'c', 3, 'b'}\n",
      "{1, 2, 'a', 'c', 3, 'b'}\n"
     ]
    },
    {
     "ename": "NameError",
     "evalue": "name 'set1' is not defined",
     "output_type": "error",
     "traceback": [
      "\u001b[1;31m---------------------------------------------------------------------------\u001b[0m",
      "\u001b[1;31mNameError\u001b[0m                                 Traceback (most recent call last)",
      "\u001b[1;32m<ipython-input-15-d388349c4a37>\u001b[0m in \u001b[0;36m<module>\u001b[1;34m\u001b[0m\n\u001b[0;32m     13\u001b[0m \u001b[0mprint\u001b[0m\u001b[1;33m(\u001b[0m\u001b[0mset1\u001b[0m\u001b[1;33m)\u001b[0m\u001b[1;33m\u001b[0m\u001b[1;33m\u001b[0m\u001b[0m\n\u001b[0;32m     14\u001b[0m \u001b[1;32mdel\u001b[0m \u001b[0mset1\u001b[0m\u001b[1;33m\u001b[0m\u001b[1;33m\u001b[0m\u001b[0m\n\u001b[1;32m---> 15\u001b[1;33m \u001b[0mprint\u001b[0m\u001b[1;33m(\u001b[0m\u001b[0mset1\u001b[0m\u001b[1;33m)\u001b[0m\u001b[1;33m\u001b[0m\u001b[1;33m\u001b[0m\u001b[0m\n\u001b[0m",
      "\u001b[1;31mNameError\u001b[0m: name 'set1' is not defined"
     ]
    }
   ],
   "source": [
    "# join sets\n",
    "set1 = {\"a\", \"b\" , \"c\"}\n",
    "set2 = {1, 2, 3}\n",
    "\n",
    "set3 = set1.union(set2)\n",
    "print(set3)\n",
    "\n",
    "# update set\n",
    "set1.update(set2)\n",
    "print(set1)\n",
    "\n",
    "# delete set\n",
    "print(set1)\n",
    "del set1\n",
    "print(set1)"
   ]
  },
  {
   "cell_type": "markdown",
   "metadata": {},
   "source": [
    "Assignment 4:Give a list of n-1 no ranging from 1 to n, your task is to find the missing no.There are no. duplicate."
   ]
  },
  {
   "cell_type": "code",
   "execution_count": 10,
   "metadata": {},
   "outputs": [
    {
     "name": "stdout",
     "output_type": "stream",
     "text": [
      "missing element is: 3\n"
     ]
    }
   ],
   "source": [
    "def missingNo(A): \n",
    "    n = len(A) \n",
    "    total = (n + 1)*(n + 2)//2\n",
    "    sum_A = sum(A) \n",
    "    return total - sum_A \n",
    "  \n",
    "A = [1, 2, 4, 5, 6] \n",
    "miss = missingNo(A) \n",
    "print(\"missing element is:\",miss) \n"
   ]
  },
  {
   "cell_type": "markdown",
   "metadata": {},
   "source": [
    "Assignment 5: WAP to print the list after removing all dublicate values with original order reserve"
   ]
  },
  {
   "cell_type": "code",
   "execution_count": 9,
   "metadata": {},
   "outputs": [
    {
     "name": "stdout",
     "output_type": "stream",
     "text": [
      "[12, 55, 34, 12, 77, 56, 34]\n",
      "the list:[12, 55, 34, 77, 56]\n"
     ]
    }
   ],
   "source": [
    "lst=[12,55,34,12,77,56,34]\n",
    "print(lst)\n",
    "res=[]\n",
    "for i in lst:\n",
    "    if i not in res:\n",
    "        res.append(i)\n",
    "print(\"the list:\"+ str(res))"
   ]
  },
  {
   "cell_type": "code",
   "execution_count": null,
   "metadata": {},
   "outputs": [],
   "source": []
  }
 ],
 "metadata": {
  "kernelspec": {
   "display_name": "Python 3",
   "language": "python",
   "name": "python3"
  },
  "language_info": {
   "codemirror_mode": {
    "name": "ipython",
    "version": 3
   },
   "file_extension": ".py",
   "mimetype": "text/x-python",
   "name": "python",
   "nbconvert_exporter": "python",
   "pygments_lexer": "ipython3",
   "version": "3.7.6"
  }
 },
 "nbformat": 4,
 "nbformat_minor": 4
}
