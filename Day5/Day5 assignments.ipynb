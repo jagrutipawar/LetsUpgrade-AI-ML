{
 "cells": [
  {
   "cell_type": "markdown",
   "metadata": {},
   "source": [
    "Assignments 1: write a python prg to find the first 20 non even prime natural no. "
   ]
  },
  {
   "cell_type": "code",
   "execution_count": 14,
   "metadata": {},
   "outputs": [
    {
     "name": "stdout",
     "output_type": "stream",
     "text": [
      "Prime no is:\n",
      "3\n",
      "5\n",
      "7\n",
      "11\n",
      "13\n",
      "17\n",
      "19\n",
      "23\n",
      "29\n",
      "31\n",
      "37\n",
      "41\n",
      "43\n",
      "47\n",
      "53\n",
      "59\n",
      "61\n",
      "67\n",
      "71\n",
      "73\n"
     ]
    }
   ],
   "source": [
    "num=75\n",
    "#a=0\n",
    "#if num>1:\n",
    "print(\"Prime no is:\")\n",
    "for i in range(2,num+1):\n",
    "    if i >1:\n",
    "        for n in range(2,i//2+2):\n",
    "            if (i%n)==0:\n",
    "                break\n",
    "            else:\n",
    "                if n==i//2+1:                    \n",
    "                    print(i)\n",
    "        \n"
   ]
  },
  {
   "cell_type": "markdown",
   "metadata": {},
   "source": [
    "Assignment2: write a python prg to implement 15 functions of string"
   ]
  },
  {
   "cell_type": "code",
   "execution_count": 7,
   "metadata": {},
   "outputs": [
    {
     "name": "stdout",
     "output_type": "stream",
     "text": [
      "Hii, always thinks positive\n",
      "5\n",
      "True\n",
      " Hii, Always Thinks Positive  \n",
      "hii, always thinks positive\n",
      "b'Hii, Always Thinks Positive'\n",
      "False\n",
      "False\n",
      "Hii, Always Thinks Positive\n",
      "False\n",
      "hii, always thinks positive\n",
      "12\n",
      "hiii guys\n",
      "         hiii    guys\n",
      "False\n",
      "1234 number\n",
      "True\n"
     ]
    }
   ],
   "source": [
    "str=\"Hii, Always Thinks Positive\"\n",
    "print(str.capitalize())\n",
    "print(str.count('i'))\n",
    "print(str.isascii())\n",
    "print(str.center(30))\n",
    "print(str.casefold())\n",
    "print(str.encode())\n",
    "print(str.endswith(\"positive\"))\n",
    "print(str.isalnum())\n",
    "print(str.zfill(20))\n",
    "print(str.islower())\n",
    "print(str.lower())\n",
    "print(str.index(\"Thinks\"))\n",
    "\n",
    "strs=\"\\t hiii \\t guys\"\n",
    "print(\"hiii guys\")\n",
    "print(strs.expandtabs())\n",
    "print(strs.istitle())\n",
    "\n",
    "a=\"1234\"\n",
    "print(\"1234 number\")\n",
    "print(a.isdigit())\n"
   ]
  },
  {
   "cell_type": "markdown",
   "metadata": {},
   "source": [
    "Assignment 3: write a python prg to check if the given string is a palindrom or anagram.Display the msg according to the user"
   ]
  },
  {
   "cell_type": "code",
   "execution_count": 17,
   "metadata": {},
   "outputs": [
    {
     "name": "stdout",
     "output_type": "stream",
     "text": [
      "enter the string: saias\n",
      "Given string is palindrome\n"
     ]
    }
   ],
   "source": [
    "def palin(str):\n",
    "    return str==str[::-1]\n",
    "\n",
    "\n",
    "str=input(\"enter the string: \")\n",
    "# s = \"malayalam\"\n",
    "ans = palin(str) \n",
    "  \n",
    "if ans: \n",
    "    print(\"Given string is palindrome\") \n",
    "else: \n",
    "    print(\"No\") \n",
    "\n"
   ]
  },
  {
   "cell_type": "markdown",
   "metadata": {},
   "source": [
    "Assignment 4: write a python users define funct that remove all the additional character from the string & convert it finally to lower case using build in lower()"
   ]
  },
  {
   "cell_type": "code",
   "execution_count": 23,
   "metadata": {},
   "outputs": [
    {
     "name": "stdout",
     "output_type": "stream",
     "text": [
      "enter the string: A@hb\n",
      "ahb\n"
     ]
    }
   ],
   "source": [
    "def abc(str):\n",
    "    add_char=[\"@\",\"!\",\"#\",\"$\",\"%\",\":\",\"?\"]\n",
    "    for i in add_char:\n",
    "        str=str.replace(i,'')\n",
    "    print(str.lower())\n",
    "    \n",
    "    \n",
    "str=input(\"enter the string: \")\n",
    "abc(str)\n"
   ]
  },
  {
   "cell_type": "code",
   "execution_count": null,
   "metadata": {},
   "outputs": [],
   "source": []
  }
 ],
 "metadata": {
  "kernelspec": {
   "display_name": "Python 3",
   "language": "python",
   "name": "python3"
  },
  "language_info": {
   "codemirror_mode": {
    "name": "ipython",
    "version": 3
   },
   "file_extension": ".py",
   "mimetype": "text/x-python",
   "name": "python",
   "nbconvert_exporter": "python",
   "pygments_lexer": "ipython3",
   "version": "3.7.6"
  }
 },
 "nbformat": 4,
 "nbformat_minor": 4
}
